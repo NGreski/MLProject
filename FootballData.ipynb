{
 "cells": [
  {
   "cell_type": "code",
   "execution_count": 1,
   "id": "5f7f86d9-6921-4bb1-99b3-72174b6fc38d",
   "metadata": {},
   "outputs": [],
   "source": [
    "# Testing Data ML project\n",
    "\n",
    "# imports\n",
    "\n",
    "import pandas as pd\n",
    "import seaborn as sns\n",
    "import numpy as np\n",
    "import matplotlib.pyplot as plt\n",
    "from pathlib import Path"
   ]
  },
  {
   "cell_type": "code",
   "execution_count": 2,
   "id": "3a993e27-09bd-403d-8e6e-955ce42f0d17",
   "metadata": {},
   "outputs": [
    {
     "data": {
      "text/html": [
       "<div>\n",
       "<style scoped>\n",
       "    .dataframe tbody tr th:only-of-type {\n",
       "        vertical-align: middle;\n",
       "    }\n",
       "\n",
       "    .dataframe tbody tr th {\n",
       "        vertical-align: top;\n",
       "    }\n",
       "\n",
       "    .dataframe thead th {\n",
       "        text-align: right;\n",
       "    }\n",
       "</style>\n",
       "<table border=\"1\" class=\"dataframe\">\n",
       "  <thead>\n",
       "    <tr style=\"text-align: right;\">\n",
       "      <th></th>\n",
       "      <th>player</th>\n",
       "      <th>player_id</th>\n",
       "      <th>position</th>\n",
       "      <th>team_name</th>\n",
       "      <th>player_game_count</th>\n",
       "      <th>avg_depth_of_target</th>\n",
       "      <th>avoided_tackles</th>\n",
       "      <th>caught_percent</th>\n",
       "      <th>contested_catch_rate</th>\n",
       "      <th>contested_receptions</th>\n",
       "      <th>...</th>\n",
       "      <th>targeted_qb_rating</th>\n",
       "      <th>targets</th>\n",
       "      <th>touchdowns</th>\n",
       "      <th>wide_rate</th>\n",
       "      <th>wide_snaps</th>\n",
       "      <th>yards</th>\n",
       "      <th>yards_after_catch</th>\n",
       "      <th>yards_after_catch_per_reception</th>\n",
       "      <th>yards_per_reception</th>\n",
       "      <th>yprr</th>\n",
       "    </tr>\n",
       "  </thead>\n",
       "  <tbody>\n",
       "    <tr>\n",
       "      <th>0</th>\n",
       "      <td>CeeDee Lamb</td>\n",
       "      <td>61570</td>\n",
       "      <td>WR</td>\n",
       "      <td>DAL</td>\n",
       "      <td>18</td>\n",
       "      <td>10.4</td>\n",
       "      <td>20</td>\n",
       "      <td>73.1</td>\n",
       "      <td>36.7</td>\n",
       "      <td>11</td>\n",
       "      <td>...</td>\n",
       "      <td>118.4</td>\n",
       "      <td>197</td>\n",
       "      <td>12</td>\n",
       "      <td>40.3</td>\n",
       "      <td>299</td>\n",
       "      <td>1859</td>\n",
       "      <td>709</td>\n",
       "      <td>4.9</td>\n",
       "      <td>12.9</td>\n",
       "      <td>2.69</td>\n",
       "    </tr>\n",
       "    <tr>\n",
       "      <th>1</th>\n",
       "      <td>Amon-Ra St. Brown</td>\n",
       "      <td>84470</td>\n",
       "      <td>WR</td>\n",
       "      <td>DET</td>\n",
       "      <td>19</td>\n",
       "      <td>8.0</td>\n",
       "      <td>21</td>\n",
       "      <td>74.2</td>\n",
       "      <td>51.7</td>\n",
       "      <td>15</td>\n",
       "      <td>...</td>\n",
       "      <td>115.9</td>\n",
       "      <td>190</td>\n",
       "      <td>11</td>\n",
       "      <td>43.6</td>\n",
       "      <td>316</td>\n",
       "      <td>1789</td>\n",
       "      <td>802</td>\n",
       "      <td>5.7</td>\n",
       "      <td>12.7</td>\n",
       "      <td>2.59</td>\n",
       "    </tr>\n",
       "    <tr>\n",
       "      <th>2</th>\n",
       "      <td>Stefon Diggs</td>\n",
       "      <td>9579</td>\n",
       "      <td>WR</td>\n",
       "      <td>BUF</td>\n",
       "      <td>19</td>\n",
       "      <td>10.6</td>\n",
       "      <td>21</td>\n",
       "      <td>66.9</td>\n",
       "      <td>41.9</td>\n",
       "      <td>13</td>\n",
       "      <td>...</td>\n",
       "      <td>93.4</td>\n",
       "      <td>175</td>\n",
       "      <td>8</td>\n",
       "      <td>63.1</td>\n",
       "      <td>444</td>\n",
       "      <td>1256</td>\n",
       "      <td>460</td>\n",
       "      <td>3.9</td>\n",
       "      <td>10.7</td>\n",
       "      <td>1.89</td>\n",
       "    </tr>\n",
       "    <tr>\n",
       "      <th>3</th>\n",
       "      <td>Tyreek Hill</td>\n",
       "      <td>10799</td>\n",
       "      <td>WR</td>\n",
       "      <td>MIA</td>\n",
       "      <td>17</td>\n",
       "      <td>11.3</td>\n",
       "      <td>28</td>\n",
       "      <td>70.9</td>\n",
       "      <td>30.4</td>\n",
       "      <td>7</td>\n",
       "      <td>...</td>\n",
       "      <td>120.2</td>\n",
       "      <td>175</td>\n",
       "      <td>14</td>\n",
       "      <td>60.5</td>\n",
       "      <td>315</td>\n",
       "      <td>1861</td>\n",
       "      <td>689</td>\n",
       "      <td>5.6</td>\n",
       "      <td>15.0</td>\n",
       "      <td>3.72</td>\n",
       "    </tr>\n",
       "    <tr>\n",
       "      <th>4</th>\n",
       "      <td>Davante Adams</td>\n",
       "      <td>8688</td>\n",
       "      <td>WR</td>\n",
       "      <td>LV</td>\n",
       "      <td>17</td>\n",
       "      <td>11.1</td>\n",
       "      <td>8</td>\n",
       "      <td>60.2</td>\n",
       "      <td>35.3</td>\n",
       "      <td>12</td>\n",
       "      <td>...</td>\n",
       "      <td>81.1</td>\n",
       "      <td>171</td>\n",
       "      <td>8</td>\n",
       "      <td>82.0</td>\n",
       "      <td>496</td>\n",
       "      <td>1144</td>\n",
       "      <td>337</td>\n",
       "      <td>3.3</td>\n",
       "      <td>11.1</td>\n",
       "      <td>1.97</td>\n",
       "    </tr>\n",
       "    <tr>\n",
       "      <th>...</th>\n",
       "      <td>...</td>\n",
       "      <td>...</td>\n",
       "      <td>...</td>\n",
       "      <td>...</td>\n",
       "      <td>...</td>\n",
       "      <td>...</td>\n",
       "      <td>...</td>\n",
       "      <td>...</td>\n",
       "      <td>...</td>\n",
       "      <td>...</td>\n",
       "      <td>...</td>\n",
       "      <td>...</td>\n",
       "      <td>...</td>\n",
       "      <td>...</td>\n",
       "      <td>...</td>\n",
       "      <td>...</td>\n",
       "      <td>...</td>\n",
       "      <td>...</td>\n",
       "      <td>...</td>\n",
       "      <td>...</td>\n",
       "      <td>...</td>\n",
       "    </tr>\n",
       "    <tr>\n",
       "      <th>481</th>\n",
       "      <td>Brandin Echols</td>\n",
       "      <td>98900</td>\n",
       "      <td>CB</td>\n",
       "      <td>NYJ</td>\n",
       "      <td>1</td>\n",
       "      <td>9.0</td>\n",
       "      <td>0</td>\n",
       "      <td>100.0</td>\n",
       "      <td>NaN</td>\n",
       "      <td>0</td>\n",
       "      <td>...</td>\n",
       "      <td>118.8</td>\n",
       "      <td>1</td>\n",
       "      <td>0</td>\n",
       "      <td>0.0</td>\n",
       "      <td>0</td>\n",
       "      <td>18</td>\n",
       "      <td>9</td>\n",
       "      <td>9.0</td>\n",
       "      <td>18.0</td>\n",
       "      <td>18.00</td>\n",
       "    </tr>\n",
       "    <tr>\n",
       "      <th>482</th>\n",
       "      <td>Malcolm Rodriguez</td>\n",
       "      <td>60731</td>\n",
       "      <td>LB</td>\n",
       "      <td>DET</td>\n",
       "      <td>4</td>\n",
       "      <td>6.0</td>\n",
       "      <td>0</td>\n",
       "      <td>100.0</td>\n",
       "      <td>NaN</td>\n",
       "      <td>0</td>\n",
       "      <td>...</td>\n",
       "      <td>91.7</td>\n",
       "      <td>1</td>\n",
       "      <td>0</td>\n",
       "      <td>10.0</td>\n",
       "      <td>1</td>\n",
       "      <td>6</td>\n",
       "      <td>0</td>\n",
       "      <td>0.0</td>\n",
       "      <td>6.0</td>\n",
       "      <td>1.20</td>\n",
       "    </tr>\n",
       "    <tr>\n",
       "      <th>483</th>\n",
       "      <td>Cody Thompson</td>\n",
       "      <td>48152</td>\n",
       "      <td>WR</td>\n",
       "      <td>SEA</td>\n",
       "      <td>6</td>\n",
       "      <td>7.0</td>\n",
       "      <td>0</td>\n",
       "      <td>100.0</td>\n",
       "      <td>NaN</td>\n",
       "      <td>0</td>\n",
       "      <td>...</td>\n",
       "      <td>108.3</td>\n",
       "      <td>1</td>\n",
       "      <td>0</td>\n",
       "      <td>85.7</td>\n",
       "      <td>6</td>\n",
       "      <td>10</td>\n",
       "      <td>3</td>\n",
       "      <td>3.0</td>\n",
       "      <td>10.0</td>\n",
       "      <td>1.43</td>\n",
       "    </tr>\n",
       "    <tr>\n",
       "      <th>484</th>\n",
       "      <td>Sam Howell</td>\n",
       "      <td>97599</td>\n",
       "      <td>QB</td>\n",
       "      <td>WAS</td>\n",
       "      <td>17</td>\n",
       "      <td>1.0</td>\n",
       "      <td>0</td>\n",
       "      <td>100.0</td>\n",
       "      <td>NaN</td>\n",
       "      <td>0</td>\n",
       "      <td>...</td>\n",
       "      <td>83.3</td>\n",
       "      <td>1</td>\n",
       "      <td>0</td>\n",
       "      <td>0.0</td>\n",
       "      <td>0</td>\n",
       "      <td>4</td>\n",
       "      <td>3</td>\n",
       "      <td>3.0</td>\n",
       "      <td>4.0</td>\n",
       "      <td>4.00</td>\n",
       "    </tr>\n",
       "    <tr>\n",
       "      <th>485</th>\n",
       "      <td>Royce Freeman</td>\n",
       "      <td>45747</td>\n",
       "      <td>HB</td>\n",
       "      <td>LA</td>\n",
       "      <td>10</td>\n",
       "      <td>-1.0</td>\n",
       "      <td>1</td>\n",
       "      <td>100.0</td>\n",
       "      <td>NaN</td>\n",
       "      <td>0</td>\n",
       "      <td>...</td>\n",
       "      <td>118.8</td>\n",
       "      <td>1</td>\n",
       "      <td>0</td>\n",
       "      <td>4.1</td>\n",
       "      <td>5</td>\n",
       "      <td>13</td>\n",
       "      <td>14</td>\n",
       "      <td>14.0</td>\n",
       "      <td>13.0</td>\n",
       "      <td>0.16</td>\n",
       "    </tr>\n",
       "  </tbody>\n",
       "</table>\n",
       "<p>486 rows × 45 columns</p>\n",
       "</div>"
      ],
      "text/plain": [
       "                player  player_id position team_name  player_game_count  \\\n",
       "0          CeeDee Lamb      61570       WR       DAL                 18   \n",
       "1    Amon-Ra St. Brown      84470       WR       DET                 19   \n",
       "2         Stefon Diggs       9579       WR       BUF                 19   \n",
       "3          Tyreek Hill      10799       WR       MIA                 17   \n",
       "4        Davante Adams       8688       WR        LV                 17   \n",
       "..                 ...        ...      ...       ...                ...   \n",
       "481     Brandin Echols      98900       CB       NYJ                  1   \n",
       "482  Malcolm Rodriguez      60731       LB       DET                  4   \n",
       "483      Cody Thompson      48152       WR       SEA                  6   \n",
       "484         Sam Howell      97599       QB       WAS                 17   \n",
       "485      Royce Freeman      45747       HB        LA                 10   \n",
       "\n",
       "     avg_depth_of_target  avoided_tackles  caught_percent  \\\n",
       "0                   10.4               20            73.1   \n",
       "1                    8.0               21            74.2   \n",
       "2                   10.6               21            66.9   \n",
       "3                   11.3               28            70.9   \n",
       "4                   11.1                8            60.2   \n",
       "..                   ...              ...             ...   \n",
       "481                  9.0                0           100.0   \n",
       "482                  6.0                0           100.0   \n",
       "483                  7.0                0           100.0   \n",
       "484                  1.0                0           100.0   \n",
       "485                 -1.0                1           100.0   \n",
       "\n",
       "     contested_catch_rate  contested_receptions  ...  targeted_qb_rating  \\\n",
       "0                    36.7                    11  ...               118.4   \n",
       "1                    51.7                    15  ...               115.9   \n",
       "2                    41.9                    13  ...                93.4   \n",
       "3                    30.4                     7  ...               120.2   \n",
       "4                    35.3                    12  ...                81.1   \n",
       "..                    ...                   ...  ...                 ...   \n",
       "481                   NaN                     0  ...               118.8   \n",
       "482                   NaN                     0  ...                91.7   \n",
       "483                   NaN                     0  ...               108.3   \n",
       "484                   NaN                     0  ...                83.3   \n",
       "485                   NaN                     0  ...               118.8   \n",
       "\n",
       "     targets  touchdowns  wide_rate  wide_snaps  yards  yards_after_catch  \\\n",
       "0        197          12       40.3         299   1859                709   \n",
       "1        190          11       43.6         316   1789                802   \n",
       "2        175           8       63.1         444   1256                460   \n",
       "3        175          14       60.5         315   1861                689   \n",
       "4        171           8       82.0         496   1144                337   \n",
       "..       ...         ...        ...         ...    ...                ...   \n",
       "481        1           0        0.0           0     18                  9   \n",
       "482        1           0       10.0           1      6                  0   \n",
       "483        1           0       85.7           6     10                  3   \n",
       "484        1           0        0.0           0      4                  3   \n",
       "485        1           0        4.1           5     13                 14   \n",
       "\n",
       "     yards_after_catch_per_reception  yards_per_reception   yprr  \n",
       "0                                4.9                 12.9   2.69  \n",
       "1                                5.7                 12.7   2.59  \n",
       "2                                3.9                 10.7   1.89  \n",
       "3                                5.6                 15.0   3.72  \n",
       "4                                3.3                 11.1   1.97  \n",
       "..                               ...                  ...    ...  \n",
       "481                              9.0                 18.0  18.00  \n",
       "482                              0.0                  6.0   1.20  \n",
       "483                              3.0                 10.0   1.43  \n",
       "484                              3.0                  4.0   4.00  \n",
       "485                             14.0                 13.0   0.16  \n",
       "\n",
       "[486 rows x 45 columns]"
      ]
     },
     "execution_count": 2,
     "metadata": {},
     "output_type": "execute_result"
    }
   ],
   "source": [
    "df = pd.read_csv(Path(\"wr_data.csv\"))\n",
    "df"
   ]
  },
  {
   "cell_type": "code",
   "execution_count": 3,
   "id": "8137ed66-1150-4780-a023-954e03b230c6",
   "metadata": {},
   "outputs": [
    {
     "data": {
      "text/plain": [
       "player                               0\n",
       "player_id                            0\n",
       "position                             0\n",
       "team_name                            0\n",
       "player_game_count                    0\n",
       "avg_depth_of_target                  0\n",
       "avoided_tackles                      0\n",
       "caught_percent                       0\n",
       "contested_catch_rate               143\n",
       "contested_receptions                 0\n",
       "contested_targets                    0\n",
       "declined_penalties                   0\n",
       "drop_rate                           16\n",
       "drops                                0\n",
       "first_downs                          0\n",
       "franchise_id                         0\n",
       "fumbles                              0\n",
       "grades_hands_drop                   20\n",
       "grades_hands_fumble                 13\n",
       "grades_offense                       0\n",
       "grades_pass_block                  148\n",
       "grades_pass_route                    1\n",
       "inline_rate                          0\n",
       "inline_snaps                         0\n",
       "interceptions                        0\n",
       "longest                              0\n",
       "pass_block_rate                      0\n",
       "pass_blocks                          0\n",
       "pass_plays                           0\n",
       "penalties                            0\n",
       "receptions                           0\n",
       "route_rate                           0\n",
       "routes                               0\n",
       "slot_rate                            0\n",
       "slot_snaps                           0\n",
       "targeted_qb_rating                   0\n",
       "targets                              0\n",
       "touchdowns                           0\n",
       "wide_rate                            0\n",
       "wide_snaps                           0\n",
       "yards                                0\n",
       "yards_after_catch                    0\n",
       "yards_after_catch_per_reception     19\n",
       "yards_per_reception                 19\n",
       "yprr                                 3\n",
       "dtype: int64"
      ]
     },
     "execution_count": 3,
     "metadata": {},
     "output_type": "execute_result"
    }
   ],
   "source": [
    "df.isnull().sum()"
   ]
  },
  {
   "cell_type": "code",
   "execution_count": 4,
   "id": "a1d167e0-1549-4eba-99de-f7635b727544",
   "metadata": {},
   "outputs": [
    {
     "data": {
      "text/plain": [
       "player                              object\n",
       "player_id                            int64\n",
       "position                            object\n",
       "team_name                           object\n",
       "player_game_count                    int64\n",
       "avg_depth_of_target                float64\n",
       "avoided_tackles                      int64\n",
       "caught_percent                     float64\n",
       "contested_catch_rate               float64\n",
       "contested_receptions                 int64\n",
       "contested_targets                    int64\n",
       "declined_penalties                   int64\n",
       "drop_rate                          float64\n",
       "drops                                int64\n",
       "first_downs                          int64\n",
       "franchise_id                         int64\n",
       "fumbles                              int64\n",
       "grades_hands_drop                  float64\n",
       "grades_hands_fumble                float64\n",
       "grades_offense                     float64\n",
       "grades_pass_block                  float64\n",
       "grades_pass_route                  float64\n",
       "inline_rate                        float64\n",
       "inline_snaps                         int64\n",
       "interceptions                        int64\n",
       "longest                              int64\n",
       "pass_block_rate                    float64\n",
       "pass_blocks                          int64\n",
       "pass_plays                           int64\n",
       "penalties                            int64\n",
       "receptions                           int64\n",
       "route_rate                         float64\n",
       "routes                               int64\n",
       "slot_rate                          float64\n",
       "slot_snaps                           int64\n",
       "targeted_qb_rating                 float64\n",
       "targets                              int64\n",
       "touchdowns                           int64\n",
       "wide_rate                          float64\n",
       "wide_snaps                           int64\n",
       "yards                                int64\n",
       "yards_after_catch                    int64\n",
       "yards_after_catch_per_reception    float64\n",
       "yards_per_reception                float64\n",
       "yprr                               float64\n",
       "dtype: object"
      ]
     },
     "execution_count": 4,
     "metadata": {},
     "output_type": "execute_result"
    }
   ],
   "source": [
    "df.dtypes"
   ]
  },
  {
   "cell_type": "code",
   "execution_count": 5,
   "id": "ac4325f4-6607-44e2-a7e1-7132a61cd336",
   "metadata": {},
   "outputs": [],
   "source": [
    "# Cleaning Data\n",
    "df_wr = df[df['position'] == \"WR\"]\n",
    "df_wr = df_wr[df_wr[\"routes\"] > 200]\n",
    "\n",
    "df_wr = df_wr[[\"yards\", \"player_id\", \"player_game_count\", \"avg_depth_of_target\", \"avoided_tackles\", \"caught_percent\", \"contested_catch_rate\",               \n",
    "\"contested_receptions\", \"contested_targets\", \"drop_rate\", \"drops\", \"fumbles\", \"pass_plays\", \"receptions\", \"route_rate\", \"routes\", \"slot_rate\",\n",
    "\"slot_snaps\", \"targeted_qb_rating\", \"targets\", \"touchdowns\", \"wide_rate\", \"wide_snaps\", \"yards_after_catch\", \"yards_after_catch_per_reception\",\n",
    "\"yards_per_reception\", \"yprr\"]]"
   ]
  },
  {
   "cell_type": "code",
   "execution_count": 6,
   "id": "e1764f47-2d36-4e8a-bd7b-087f9b47bf8c",
   "metadata": {},
   "outputs": [
    {
     "data": {
      "text/html": [
       "<div>\n",
       "<style scoped>\n",
       "    .dataframe tbody tr th:only-of-type {\n",
       "        vertical-align: middle;\n",
       "    }\n",
       "\n",
       "    .dataframe tbody tr th {\n",
       "        vertical-align: top;\n",
       "    }\n",
       "\n",
       "    .dataframe thead th {\n",
       "        text-align: right;\n",
       "    }\n",
       "</style>\n",
       "<table border=\"1\" class=\"dataframe\">\n",
       "  <thead>\n",
       "    <tr style=\"text-align: right;\">\n",
       "      <th></th>\n",
       "      <th>yards</th>\n",
       "      <th>player_id</th>\n",
       "      <th>player_game_count</th>\n",
       "      <th>avg_depth_of_target</th>\n",
       "      <th>avoided_tackles</th>\n",
       "      <th>caught_percent</th>\n",
       "      <th>contested_catch_rate</th>\n",
       "      <th>contested_receptions</th>\n",
       "      <th>contested_targets</th>\n",
       "      <th>drop_rate</th>\n",
       "      <th>...</th>\n",
       "      <th>slot_snaps</th>\n",
       "      <th>targeted_qb_rating</th>\n",
       "      <th>targets</th>\n",
       "      <th>touchdowns</th>\n",
       "      <th>wide_rate</th>\n",
       "      <th>wide_snaps</th>\n",
       "      <th>yards_after_catch</th>\n",
       "      <th>yards_after_catch_per_reception</th>\n",
       "      <th>yards_per_reception</th>\n",
       "      <th>yprr</th>\n",
       "    </tr>\n",
       "  </thead>\n",
       "  <tbody>\n",
       "    <tr>\n",
       "      <th>0</th>\n",
       "      <td>1859</td>\n",
       "      <td>61570</td>\n",
       "      <td>18</td>\n",
       "      <td>10.4</td>\n",
       "      <td>20</td>\n",
       "      <td>73.1</td>\n",
       "      <td>36.7</td>\n",
       "      <td>11</td>\n",
       "      <td>30</td>\n",
       "      <td>4.0</td>\n",
       "      <td>...</td>\n",
       "      <td>435</td>\n",
       "      <td>118.4</td>\n",
       "      <td>197</td>\n",
       "      <td>12</td>\n",
       "      <td>40.3</td>\n",
       "      <td>299</td>\n",
       "      <td>709</td>\n",
       "      <td>4.9</td>\n",
       "      <td>12.9</td>\n",
       "      <td>2.69</td>\n",
       "    </tr>\n",
       "    <tr>\n",
       "      <th>1</th>\n",
       "      <td>1789</td>\n",
       "      <td>84470</td>\n",
       "      <td>19</td>\n",
       "      <td>8.0</td>\n",
       "      <td>21</td>\n",
       "      <td>74.2</td>\n",
       "      <td>51.7</td>\n",
       "      <td>15</td>\n",
       "      <td>29</td>\n",
       "      <td>3.4</td>\n",
       "      <td>...</td>\n",
       "      <td>401</td>\n",
       "      <td>115.9</td>\n",
       "      <td>190</td>\n",
       "      <td>11</td>\n",
       "      <td>43.6</td>\n",
       "      <td>316</td>\n",
       "      <td>802</td>\n",
       "      <td>5.7</td>\n",
       "      <td>12.7</td>\n",
       "      <td>2.59</td>\n",
       "    </tr>\n",
       "    <tr>\n",
       "      <th>2</th>\n",
       "      <td>1256</td>\n",
       "      <td>9579</td>\n",
       "      <td>19</td>\n",
       "      <td>10.6</td>\n",
       "      <td>21</td>\n",
       "      <td>66.9</td>\n",
       "      <td>41.9</td>\n",
       "      <td>13</td>\n",
       "      <td>31</td>\n",
       "      <td>6.4</td>\n",
       "      <td>...</td>\n",
       "      <td>251</td>\n",
       "      <td>93.4</td>\n",
       "      <td>175</td>\n",
       "      <td>8</td>\n",
       "      <td>63.1</td>\n",
       "      <td>444</td>\n",
       "      <td>460</td>\n",
       "      <td>3.9</td>\n",
       "      <td>10.7</td>\n",
       "      <td>1.89</td>\n",
       "    </tr>\n",
       "    <tr>\n",
       "      <th>3</th>\n",
       "      <td>1861</td>\n",
       "      <td>10799</td>\n",
       "      <td>17</td>\n",
       "      <td>11.3</td>\n",
       "      <td>28</td>\n",
       "      <td>70.9</td>\n",
       "      <td>30.4</td>\n",
       "      <td>7</td>\n",
       "      <td>23</td>\n",
       "      <td>7.5</td>\n",
       "      <td>...</td>\n",
       "      <td>195</td>\n",
       "      <td>120.2</td>\n",
       "      <td>175</td>\n",
       "      <td>14</td>\n",
       "      <td>60.5</td>\n",
       "      <td>315</td>\n",
       "      <td>689</td>\n",
       "      <td>5.6</td>\n",
       "      <td>15.0</td>\n",
       "      <td>3.72</td>\n",
       "    </tr>\n",
       "    <tr>\n",
       "      <th>4</th>\n",
       "      <td>1144</td>\n",
       "      <td>8688</td>\n",
       "      <td>17</td>\n",
       "      <td>11.1</td>\n",
       "      <td>8</td>\n",
       "      <td>60.2</td>\n",
       "      <td>35.3</td>\n",
       "      <td>12</td>\n",
       "      <td>34</td>\n",
       "      <td>8.0</td>\n",
       "      <td>...</td>\n",
       "      <td>102</td>\n",
       "      <td>81.1</td>\n",
       "      <td>171</td>\n",
       "      <td>8</td>\n",
       "      <td>82.0</td>\n",
       "      <td>496</td>\n",
       "      <td>337</td>\n",
       "      <td>3.3</td>\n",
       "      <td>11.1</td>\n",
       "      <td>1.97</td>\n",
       "    </tr>\n",
       "    <tr>\n",
       "      <th>...</th>\n",
       "      <td>...</td>\n",
       "      <td>...</td>\n",
       "      <td>...</td>\n",
       "      <td>...</td>\n",
       "      <td>...</td>\n",
       "      <td>...</td>\n",
       "      <td>...</td>\n",
       "      <td>...</td>\n",
       "      <td>...</td>\n",
       "      <td>...</td>\n",
       "      <td>...</td>\n",
       "      <td>...</td>\n",
       "      <td>...</td>\n",
       "      <td>...</td>\n",
       "      <td>...</td>\n",
       "      <td>...</td>\n",
       "      <td>...</td>\n",
       "      <td>...</td>\n",
       "      <td>...</td>\n",
       "      <td>...</td>\n",
       "      <td>...</td>\n",
       "    </tr>\n",
       "    <tr>\n",
       "      <th>224</th>\n",
       "      <td>154</td>\n",
       "      <td>61664</td>\n",
       "      <td>9</td>\n",
       "      <td>10.4</td>\n",
       "      <td>1</td>\n",
       "      <td>72.0</td>\n",
       "      <td>57.1</td>\n",
       "      <td>4</td>\n",
       "      <td>7</td>\n",
       "      <td>0.0</td>\n",
       "      <td>...</td>\n",
       "      <td>146</td>\n",
       "      <td>67.8</td>\n",
       "      <td>25</td>\n",
       "      <td>1</td>\n",
       "      <td>38.9</td>\n",
       "      <td>93</td>\n",
       "      <td>66</td>\n",
       "      <td>3.7</td>\n",
       "      <td>8.6</td>\n",
       "      <td>0.68</td>\n",
       "    </tr>\n",
       "    <tr>\n",
       "      <th>228</th>\n",
       "      <td>155</td>\n",
       "      <td>61439</td>\n",
       "      <td>17</td>\n",
       "      <td>11.5</td>\n",
       "      <td>2</td>\n",
       "      <td>54.2</td>\n",
       "      <td>100.0</td>\n",
       "      <td>1</td>\n",
       "      <td>1</td>\n",
       "      <td>0.0</td>\n",
       "      <td>...</td>\n",
       "      <td>90</td>\n",
       "      <td>39.4</td>\n",
       "      <td>24</td>\n",
       "      <td>0</td>\n",
       "      <td>68.5</td>\n",
       "      <td>196</td>\n",
       "      <td>34</td>\n",
       "      <td>2.6</td>\n",
       "      <td>11.9</td>\n",
       "      <td>0.59</td>\n",
       "    </tr>\n",
       "    <tr>\n",
       "      <th>258</th>\n",
       "      <td>162</td>\n",
       "      <td>42247</td>\n",
       "      <td>17</td>\n",
       "      <td>9.9</td>\n",
       "      <td>3</td>\n",
       "      <td>65.0</td>\n",
       "      <td>50.0</td>\n",
       "      <td>1</td>\n",
       "      <td>2</td>\n",
       "      <td>7.1</td>\n",
       "      <td>...</td>\n",
       "      <td>154</td>\n",
       "      <td>129.6</td>\n",
       "      <td>20</td>\n",
       "      <td>3</td>\n",
       "      <td>34.3</td>\n",
       "      <td>83</td>\n",
       "      <td>98</td>\n",
       "      <td>7.5</td>\n",
       "      <td>12.5</td>\n",
       "      <td>0.73</td>\n",
       "    </tr>\n",
       "    <tr>\n",
       "      <th>262</th>\n",
       "      <td>169</td>\n",
       "      <td>44920</td>\n",
       "      <td>18</td>\n",
       "      <td>12.5</td>\n",
       "      <td>0</td>\n",
       "      <td>57.9</td>\n",
       "      <td>40.0</td>\n",
       "      <td>2</td>\n",
       "      <td>5</td>\n",
       "      <td>8.3</td>\n",
       "      <td>...</td>\n",
       "      <td>233</td>\n",
       "      <td>122.5</td>\n",
       "      <td>19</td>\n",
       "      <td>2</td>\n",
       "      <td>32.9</td>\n",
       "      <td>115</td>\n",
       "      <td>54</td>\n",
       "      <td>4.9</td>\n",
       "      <td>15.4</td>\n",
       "      <td>0.50</td>\n",
       "    </tr>\n",
       "    <tr>\n",
       "      <th>273</th>\n",
       "      <td>246</td>\n",
       "      <td>77975</td>\n",
       "      <td>10</td>\n",
       "      <td>17.3</td>\n",
       "      <td>0</td>\n",
       "      <td>66.7</td>\n",
       "      <td>66.7</td>\n",
       "      <td>4</td>\n",
       "      <td>6</td>\n",
       "      <td>7.7</td>\n",
       "      <td>...</td>\n",
       "      <td>54</td>\n",
       "      <td>149.3</td>\n",
       "      <td>18</td>\n",
       "      <td>4</td>\n",
       "      <td>74.9</td>\n",
       "      <td>161</td>\n",
       "      <td>19</td>\n",
       "      <td>1.6</td>\n",
       "      <td>20.5</td>\n",
       "      <td>1.18</td>\n",
       "    </tr>\n",
       "  </tbody>\n",
       "</table>\n",
       "<p>120 rows × 27 columns</p>\n",
       "</div>"
      ],
      "text/plain": [
       "     yards  player_id  player_game_count  avg_depth_of_target  \\\n",
       "0     1859      61570                 18                 10.4   \n",
       "1     1789      84470                 19                  8.0   \n",
       "2     1256       9579                 19                 10.6   \n",
       "3     1861      10799                 17                 11.3   \n",
       "4     1144       8688                 17                 11.1   \n",
       "..     ...        ...                ...                  ...   \n",
       "224    154      61664                  9                 10.4   \n",
       "228    155      61439                 17                 11.5   \n",
       "258    162      42247                 17                  9.9   \n",
       "262    169      44920                 18                 12.5   \n",
       "273    246      77975                 10                 17.3   \n",
       "\n",
       "     avoided_tackles  caught_percent  contested_catch_rate  \\\n",
       "0                 20            73.1                  36.7   \n",
       "1                 21            74.2                  51.7   \n",
       "2                 21            66.9                  41.9   \n",
       "3                 28            70.9                  30.4   \n",
       "4                  8            60.2                  35.3   \n",
       "..               ...             ...                   ...   \n",
       "224                1            72.0                  57.1   \n",
       "228                2            54.2                 100.0   \n",
       "258                3            65.0                  50.0   \n",
       "262                0            57.9                  40.0   \n",
       "273                0            66.7                  66.7   \n",
       "\n",
       "     contested_receptions  contested_targets  drop_rate  ...  slot_snaps  \\\n",
       "0                      11                 30        4.0  ...         435   \n",
       "1                      15                 29        3.4  ...         401   \n",
       "2                      13                 31        6.4  ...         251   \n",
       "3                       7                 23        7.5  ...         195   \n",
       "4                      12                 34        8.0  ...         102   \n",
       "..                    ...                ...        ...  ...         ...   \n",
       "224                     4                  7        0.0  ...         146   \n",
       "228                     1                  1        0.0  ...          90   \n",
       "258                     1                  2        7.1  ...         154   \n",
       "262                     2                  5        8.3  ...         233   \n",
       "273                     4                  6        7.7  ...          54   \n",
       "\n",
       "     targeted_qb_rating  targets  touchdowns  wide_rate  wide_snaps  \\\n",
       "0                 118.4      197          12       40.3         299   \n",
       "1                 115.9      190          11       43.6         316   \n",
       "2                  93.4      175           8       63.1         444   \n",
       "3                 120.2      175          14       60.5         315   \n",
       "4                  81.1      171           8       82.0         496   \n",
       "..                  ...      ...         ...        ...         ...   \n",
       "224                67.8       25           1       38.9          93   \n",
       "228                39.4       24           0       68.5         196   \n",
       "258               129.6       20           3       34.3          83   \n",
       "262               122.5       19           2       32.9         115   \n",
       "273               149.3       18           4       74.9         161   \n",
       "\n",
       "     yards_after_catch  yards_after_catch_per_reception  yards_per_reception  \\\n",
       "0                  709                              4.9                 12.9   \n",
       "1                  802                              5.7                 12.7   \n",
       "2                  460                              3.9                 10.7   \n",
       "3                  689                              5.6                 15.0   \n",
       "4                  337                              3.3                 11.1   \n",
       "..                 ...                              ...                  ...   \n",
       "224                 66                              3.7                  8.6   \n",
       "228                 34                              2.6                 11.9   \n",
       "258                 98                              7.5                 12.5   \n",
       "262                 54                              4.9                 15.4   \n",
       "273                 19                              1.6                 20.5   \n",
       "\n",
       "     yprr  \n",
       "0    2.69  \n",
       "1    2.59  \n",
       "2    1.89  \n",
       "3    3.72  \n",
       "4    1.97  \n",
       "..    ...  \n",
       "224  0.68  \n",
       "228  0.59  \n",
       "258  0.73  \n",
       "262  0.50  \n",
       "273  1.18  \n",
       "\n",
       "[120 rows x 27 columns]"
      ]
     },
     "execution_count": 6,
     "metadata": {},
     "output_type": "execute_result"
    }
   ],
   "source": [
    "df_wr"
   ]
  },
  {
   "cell_type": "code",
   "execution_count": 7,
   "id": "9d19382c-3cce-4904-a1c4-f41cc80aaa71",
   "metadata": {},
   "outputs": [
    {
     "data": {
      "image/png": "[encoded data removed]",
      "text/plain": [
       "<Figure size 1000x600 with 1 Axes>"
      ]
     },
     "metadata": {},
     "output_type": "display_data"
    }
   ],
   "source": [
    "plt.figure(figsize=(10, 6))\n",
    "plt.hist(df_wr['yards'], bins=20, color='skyblue', edgecolor='black')  # Adjust the number of bins as needed\n",
    "plt.title('Total Yards')\n",
    "plt.xlabel('Yards')\n",
    "plt.ylabel('Frequency')\n",
    "plt.grid(True)\n",
    "plt.show()"
   ]
  },
  {
   "cell_type": "code",
   "execution_count": 8,
   "id": "d7830729-e9cc-4e1a-8b66-612283a765f8",
   "metadata": {},
   "outputs": [
    {
     "data": {
      "text/plain": [
       "<Axes: xlabel='avg_depth_of_target', ylabel='yards'>"
      ]
     },
     "execution_count": 8,
     "metadata": {},
     "output_type": "execute_result"
    },
    {
     "data": {
      "image/png": "[encoded data removed]",
      "text/plain": [
       "<Figure size 640x480 with 1 Axes>"
      ]
     },
     "metadata": {},
     "output_type": "display_data"
    }
   ],
   "source": [
    "sns.scatterplot(data = df_wr, x = df_wr[\"avg_depth_of_target\"], y = df_wr[\"yards\"]) "
   ]
  },
  {
   "cell_type": "code",
   "execution_count": 9,
   "id": "1de0225a-7303-4995-8d3d-60b2864529bd",
   "metadata": {},
   "outputs": [
    {
     "data": {
      "text/plain": [
       "yards                              1.000000\n",
       "receptions                         0.952243\n",
       "targets                            0.946463\n",
       "yards_after_catch                  0.882393\n",
       "yprr                               0.880586\n",
       "touchdowns                         0.811361\n",
       "contested_targets                  0.757748\n",
       "routes                             0.756633\n",
       "pass_plays                         0.751946\n",
       "avoided_tackles                    0.716227\n",
       "contested_receptions               0.713504\n",
       "drops                              0.604206\n",
       "wide_snaps                         0.592676\n",
       "targeted_qb_rating                 0.424779\n",
       "fumbles                            0.414440\n",
       "caught_percent                     0.391342\n",
       "player_game_count                  0.328519\n",
       "yards_after_catch_per_reception    0.293298\n",
       "slot_snaps                         0.288617\n",
       "yards_per_reception                0.268529\n",
       "wide_rate                          0.142095\n",
       "contested_catch_rate               0.098563\n",
       "route_rate                         0.027422\n",
       "player_id                         -0.065774\n",
       "avg_depth_of_target               -0.067042\n",
       "slot_rate                         -0.147687\n",
       "drop_rate                         -0.181872\n",
       "Name: yards, dtype: float64"
      ]
     },
     "execution_count": 9,
     "metadata": {},
     "output_type": "execute_result"
    }
   ],
   "source": [
    "corr_matrix = df_wr.corr()\n",
    "\n",
    "corr_matrix[\"yards\"].sort_values(ascending=False)"
   ]
  },
  {
   "cell_type": "code",
   "execution_count": 10,
   "id": "81c7e668-35f4-4afb-8f07-444d7f3931e4",
   "metadata": {},
   "outputs": [
    {
     "data": {
      "text/plain": [
       "<Axes: xlabel='touchdowns', ylabel='yards'>"
      ]
     },
     "execution_count": 10,
     "metadata": {},
     "output_type": "execute_result"
    },
    {
     "data": {
      "image/png": "[encoded data removed]",
      "text/plain": [
       "<Figure size 640x480 with 1 Axes>"
      ]
     },
     "metadata": {},
     "output_type": "display_data"
    }
   ],
   "source": [
    "sns.scatterplot(data = df_wr, x = df_wr[\"touchdowns\"], y = df_wr[\"yards\"]) "
   ]
  },
  {
   "cell_type": "code",
   "execution_count": 11,
   "id": "bd6a64a2-24b4-4425-8261-e38efeb0488e",
   "metadata": {},
   "outputs": [
    {
     "data": {
      "text/plain": [
       "<Axes: xlabel='receptions', ylabel='yards'>"
      ]
     },
     "execution_count": 11,
     "metadata": {},
     "output_type": "execute_result"
    },
    {
     "data": {
      "image/png": "[encoded data removed]",
      "text/plain": [
       "<Figure size 640x480 with 1 Axes>"
      ]
     },
     "metadata": {},
     "output_type": "display_data"
    }
   ],
   "source": [
    "sns.scatterplot(data = df_wr, x = df_wr[\"receptions\"], y = df_wr[\"yards\"]) "
   ]
  },
  {
   "cell_type": "code",
   "execution_count": 55,
   "id": "4ae6bd0a-5858-4427-9f83-6366de6e5e46",
   "metadata": {},
   "outputs": [
    {
     "data": {
      "text/plain": [
       "120"
      ]
     },
     "execution_count": 55,
     "metadata": {},
     "output_type": "execute_result"
    }
   ],
   "source": [
    "len(df_wr)"
   ]
  },
  {
   "cell_type": "code",
   "execution_count": 12,
   "id": "d3ed207b-d235-4cd1-b567-74ffa19efb63",
   "metadata": {},
   "outputs": [
    {
     "data": {
      "text/plain": [
       "array([ 815.234427  ,  412.59576433, 1184.15785945,  765.61771053,\n",
       "       1068.8879166 ,  439.68526013,  596.93183816, 1250.20565717,\n",
       "        804.08124169,  466.73954679, 1243.82507157,  541.5398207 ,\n",
       "       1225.60883744, 1106.8495914 ,  567.77699872,  188.81282347,\n",
       "         98.74396828, 1734.4632088 ,  329.7848338 ,  305.29866555,\n",
       "        545.4893894 ,  689.82725708,  943.24093863,  661.83355295,\n",
       "        694.12624569, 1084.8537396 , 1014.91176836,    8.1245839 ,\n",
       "        710.37587573,  230.70150151,  909.5913948 ,  412.54353775,\n",
       "       1147.5109658 ,  280.57544357,  767.40120885,  -11.50009252])"
      ]
     },
     "execution_count": 12,
     "metadata": {},
     "output_type": "execute_result"
    }
   ],
   "source": [
    "# Training linear model\n",
    "from sklearn.linear_model import LinearRegression\n",
    "from sklearn.model_selection import train_test_split\n",
    "\n",
    "x = df_wr[[\"player_game_count\",  \"avoided_tackles\", \"caught_percent\",               \n",
    "\"contested_receptions\", \"contested_targets\",  \"drops\", \"fumbles\", \"pass_plays\", \"receptions\",  \"routes\", \n",
    "\"slot_snaps\", \"targeted_qb_rating\", \"targets\", \"touchdowns\",  \"wide_snaps\", \"yards_after_catch_per_reception\",\n",
    "\"yards_per_reception\", \"yprr\"]]\n",
    "y = df_wr[\"yards\"]\n",
    "\n",
    "# Scaling the Data\n",
    "from sklearn.preprocessing import StandardScaler\n",
    "\n",
    "\n",
    "\n",
    "X_train, X_test, y_train, y_test = train_test_split(x,y, test_size = 0.3, random_state = 42)\n",
    "\n",
    "std_scaler = StandardScaler()\n",
    "X_train_scaled = std_scaler.fit_transform(X_train)\n",
    "\n",
    "X_test_scaled = std_scaler.transform(X_test)\n",
    "\n",
    "\n",
    "lin_reg = LinearRegression()\n",
    "lin_reg.fit(X_train_scaled, y_train)\n",
    "lin_reg.intercept_, lin_reg.coef_\n",
    "\n",
    "y_predict = lin_reg.predict(X_test_scaled)\n",
    "y_predict"
   ]
  },
  {
   "cell_type": "code",
   "execution_count": 13,
   "id": "4d6e9abd-da5e-4263-bafb-275654bb0360",
   "metadata": {},
   "outputs": [
    {
     "name": "stderr",
     "output_type": "stream",
     "text": [
      "/Users/oliver/micromamba/envs/ml2/lib/python3.11/site-packages/sklearn/metrics/_regression.py:483: FutureWarning: 'squared' is deprecated in version 1.4 and will be removed in 1.6. To calculate the root mean squared error, use the function'root_mean_squared_error'.\n",
      "  warnings.warn(\n"
     ]
    },
    {
     "data": {
      "text/plain": [
       "57.046806312642374"
      ]
     },
     "execution_count": 13,
     "metadata": {},
     "output_type": "execute_result"
    }
   ],
   "source": [
    "from sklearn.metrics import mean_squared_error\n",
    "\n",
    "val_error = mean_squared_error(y_test, y_predict, squared = False)\n",
    "val_error"
   ]
  },
  {
   "cell_type": "code",
   "execution_count": 14,
   "id": "1a996c02",
   "metadata": {},
   "outputs": [
    {
     "data": {
      "image/png": "[encoded data removed]",
      "text/plain": [
       "<Figure size 600x400 with 1 Axes>"
      ]
     },
     "metadata": {},
     "output_type": "display_data"
    }
   ],
   "source": [
    "from sklearn.pipeline import make_pipeline\n",
    "from sklearn.preprocessing import PolynomialFeatures\n",
    "from sklearn.model_selection import learning_curve\n",
    "\n",
    "train_sizes, train_scores, valid_scores = learning_curve(\n",
    "    LinearRegression(), x, y, train_sizes=np.linspace(0.01, 1.0, 40), cv=5,\n",
    "    scoring=\"neg_root_mean_squared_error\")\n",
    "train_errors = -train_scores.mean(axis=1)\n",
    "valid_errors = -valid_scores.mean(axis=1)\n",
    "\n",
    "plt.figure(figsize=(6, 4))  # extra code – not needed, just formatting\n",
    "plt.plot(train_sizes, train_errors, \"r-+\", linewidth=2, label=\"train\")\n",
    "plt.plot(train_sizes, valid_errors, \"b-\", linewidth=3, label=\"valid\")\n",
    "\n",
    "# extra code – beautifies and saves Figure 4–15\n",
    "plt.xlabel(\"Training set size\")\n",
    "plt.ylabel(\"RMSE\")\n",
    "plt.grid()\n",
    "plt.legend(loc=\"upper right\")\n",
    "plt.axis([0, 100, 0, 250])\n",
    "\n",
    "plt.title(\"Linear\")\n",
    "plt.show()\n"
   ]
  },
  {
   "cell_type": "code",
   "execution_count": 15,
   "id": "d3206af2-0c89-4106-a25a-4b2f30c95e59",
   "metadata": {},
   "outputs": [
    {
     "data": {
      "text/plain": [
       "[<matplotlib.lines.Line2D at 0x147daae10>]"
      ]
     },
     "execution_count": 15,
     "metadata": {},
     "output_type": "execute_result"
    },
    {
     "data": {
      "image/png": "[encoded data removed]",
      "text/plain": [
       "<Figure size 640x480 with 1 Axes>"
      ]
     },
     "metadata": {},
     "output_type": "display_data"
    }
   ],
   "source": [
    "\n",
    "#plt.plot(\n",
    "xstop = 150\n",
    "\n",
    "Z = np.arange(0,xstop,xstop/len(y_predict))\n",
    "\n",
    "sns.scatterplot(data = df_wr, x = df_wr[\"receptions\"], y = df_wr[\"yards\"]) \n",
    "plt.plot(Z,y_predict, \"r-\")"
   ]
  },
  {
   "cell_type": "code",
   "execution_count": 16,
   "id": "b1fba5cd-9385-48ea-afb1-f9da90c04fa7",
   "metadata": {},
   "outputs": [
    {
     "data": {
      "text/plain": [
       "120"
      ]
     },
     "execution_count": 16,
     "metadata": {},
     "output_type": "execute_result"
    }
   ],
   "source": [
    "len(x)"
   ]
  },
  {
   "cell_type": "code",
   "execution_count": 17,
   "id": "67af3382-062b-4493-9d30-2dde31a20dff",
   "metadata": {},
   "outputs": [
    {
     "data": {
      "text/plain": [
       "84"
      ]
     },
     "execution_count": 17,
     "metadata": {},
     "output_type": "execute_result"
    }
   ],
   "source": [
    "len(X_train)"
   ]
  },
  {
   "cell_type": "code",
   "execution_count": 18,
   "id": "e669720d-ea99-489f-b45f-2698a78cc0a9",
   "metadata": {},
   "outputs": [
    {
     "data": {
      "text/plain": [
       "36"
      ]
     },
     "execution_count": 18,
     "metadata": {},
     "output_type": "execute_result"
    }
   ],
   "source": [
    "len(y_predict)"
   ]
  },
  {
   "cell_type": "code",
   "execution_count": 19,
   "id": "96a6f021-ce62-446d-b4b7-0e32ceae6278",
   "metadata": {},
   "outputs": [],
   "source": [
    "from sklearn.tree import DecisionTreeRegressor"
   ]
  },
  {
   "cell_type": "code",
   "execution_count": 20,
   "id": "cd0e55db",
   "metadata": {},
   "outputs": [],
   "source": [
    "X_train, X_test, y_train, y_test = train_test_split(x, y, test_size=0.2, random_state=42)"
   ]
  },
  {
   "cell_type": "code",
   "execution_count": 21,
   "id": "dce13ef9",
   "metadata": {},
   "outputs": [],
   "source": [
    "std_scaler = StandardScaler()\n",
    "X_train_scaled = std_scaler.fit_transform(X_train)\n",
    "\n",
    "X_test_scaled = std_scaler.transform(X_test)\n",
    "\n",
    "\n",
    "decision_tree_regressor = DecisionTreeRegressor(random_state=42)\n",
    "decision_tree_regressor.fit(X_train_scaled, y_train)\n",
    "\n",
    "predictions = decision_tree_regressor.predict(X_test_scaled)"
   ]
  },
  {
   "cell_type": "code",
   "execution_count": 22,
   "id": "00012b1f",
   "metadata": {},
   "outputs": [
    {
     "name": "stderr",
     "output_type": "stream",
     "text": [
      "/Users/oliver/micromamba/envs/ml2/lib/python3.11/site-packages/sklearn/metrics/_regression.py:483: FutureWarning: 'squared' is deprecated in version 1.4 and will be removed in 1.6. To calculate the root mean squared error, use the function'root_mean_squared_error'.\n",
      "  warnings.warn(\n"
     ]
    },
    {
     "data": {
      "text/plain": [
       "125.22629516199862"
      ]
     },
     "execution_count": 22,
     "metadata": {},
     "output_type": "execute_result"
    }
   ],
   "source": [
    "tree_val_error = mean_squared_error(y_test, predictions, squared=False)\n",
    "tree_val_error"
   ]
  },
  {
   "cell_type": "code",
   "execution_count": 23,
   "id": "d835e349",
   "metadata": {},
   "outputs": [
    {
     "data": {
      "image/png": "[encoded data removed]",
      "text/plain": [
       "<Figure size 600x400 with 1 Axes>"
      ]
     },
     "metadata": {},
     "output_type": "display_data"
    }
   ],
   "source": [
    "from sklearn.pipeline import make_pipeline\n",
    "from sklearn.preprocessing import PolynomialFeatures\n",
    "from sklearn.model_selection import learning_curve\n",
    "\n",
    "train_sizes, train_scores, valid_scores = learning_curve(\n",
    "    DecisionTreeRegressor(), x, y, train_sizes=np.linspace(0.01, 1.0, 40), cv=5,\n",
    "    scoring=\"neg_root_mean_squared_error\")\n",
    "train_errors = -train_scores.mean(axis=1)\n",
    "valid_errors = -valid_scores.mean(axis=1)\n",
    "\n",
    "plt.figure(figsize=(6, 4))  # extra code – not needed, just formatting\n",
    "plt.plot(train_sizes, train_errors, \"r-+\", linewidth=2, label=\"train\")\n",
    "plt.plot(train_sizes, valid_errors, \"b-\", linewidth=3, label=\"valid\")\n",
    "\n",
    "# extra code – beautifies and saves Figure 4–15\n",
    "plt.xlabel(\"Training set size\")\n",
    "plt.ylabel(\"RMSE\")\n",
    "plt.grid()\n",
    "plt.legend(loc=\"upper right\")\n",
    "#plt.axis([0, 100, 0, 250])\n",
    "\n",
    "plt.title(\"Decision Tree\")\n",
    "plt.show()\n"
   ]
  },
  {
   "cell_type": "code",
   "execution_count": 24,
   "id": "f7c42043",
   "metadata": {},
   "outputs": [],
   "source": [
    "from sklearn.ensemble import RandomForestRegressor"
   ]
  },
  {
   "cell_type": "code",
   "execution_count": 25,
   "id": "9f164c4f",
   "metadata": {},
   "outputs": [],
   "source": [
    "# Splitting the data into training and testing sets\n",
    "X_train, X_test, y_train, y_test = train_test_split(x, y, test_size=0.2, random_state=42)\n",
    "\n",
    "std_scaler = StandardScaler()\n",
    "X_train_scaled = std_scaler.fit_transform(X_train)\n",
    "\n",
    "X_test_scaled = std_scaler.transform(X_test)"
   ]
  },
  {
   "cell_type": "code",
   "execution_count": 26,
   "id": "218b0872",
   "metadata": {},
   "outputs": [],
   "source": [
    "# Creating a random forest regressor model\n",
    "random_forest_model = RandomForestRegressor(n_estimators=100, random_state=42)"
   ]
  },
  {
   "cell_type": "code",
   "execution_count": 27,
   "id": "d32a0a49",
   "metadata": {},
   "outputs": [],
   "source": [
    "# Training the model\n",
    "random_forest_model.fit(X_train_scaled, y_train)\n",
    "\n",
    "# Making predictions\n",
    "predictions = random_forest_model.predict(X_test_scaled)"
   ]
  },
  {
   "cell_type": "code",
   "execution_count": 28,
   "id": "3434e98c",
   "metadata": {},
   "outputs": [
    {
     "name": "stderr",
     "output_type": "stream",
     "text": [
      "/Users/oliver/micromamba/envs/ml2/lib/python3.11/site-packages/sklearn/metrics/_regression.py:483: FutureWarning: 'squared' is deprecated in version 1.4 and will be removed in 1.6. To calculate the root mean squared error, use the function'root_mean_squared_error'.\n",
      "  warnings.warn(\n"
     ]
    },
    {
     "data": {
      "text/plain": [
       "72.5357665798972"
      ]
     },
     "execution_count": 28,
     "metadata": {},
     "output_type": "execute_result"
    }
   ],
   "source": [
    "# Evaluating the model\n",
    "forest_val_error = mean_squared_error(y_test, predictions, squared=False)\n",
    "forest_val_error"
   ]
  },
  {
   "cell_type": "code",
   "execution_count": 29,
   "id": "a181aa39",
   "metadata": {},
   "outputs": [
    {
     "data": {
      "image/png": "[encoded data removed]",
      "text/plain": [
       "<Figure size 600x400 with 1 Axes>"
      ]
     },
     "metadata": {},
     "output_type": "display_data"
    }
   ],
   "source": [
    "from sklearn.pipeline import make_pipeline\n",
    "from sklearn.preprocessing import PolynomialFeatures\n",
    "from sklearn.model_selection import learning_curve\n",
    "\n",
    "train_sizes, train_scores, valid_scores = learning_curve(\n",
    "    RandomForestRegressor(), x, y, train_sizes=np.linspace(0.01, 1.0, 40), cv=5,\n",
    "    scoring=\"neg_root_mean_squared_error\")\n",
    "train_errors = -train_scores.mean(axis=1)\n",
    "valid_errors = -valid_scores.mean(axis=1)\n",
    "\n",
    "plt.figure(figsize=(6, 4))  # extra code – not needed, just formatting\n",
    "plt.plot(train_sizes, train_errors, \"r-+\", linewidth=2, label=\"train\")\n",
    "plt.plot(train_sizes, valid_errors, \"b-\", linewidth=3, label=\"valid\")\n",
    "\n",
    "# extra code – beautifies and saves Figure 4–15\n",
    "plt.xlabel(\"Training set size\")\n",
    "plt.ylabel(\"RMSE\")\n",
    "plt.grid()\n",
    "plt.legend(loc=\"upper right\")\n",
    "#plt.axis([0, 100, 0, 250])\n",
    "\n",
    "plt.title(\"Random Forest\")\n",
    "plt.show()"
   ]
  },
  {
   "cell_type": "code",
   "execution_count": 30,
   "id": "27d90aaf",
   "metadata": {},
   "outputs": [],
   "source": [
    "from sklearn.svm import SVR"
   ]
  },
  {
   "cell_type": "code",
   "execution_count": 31,
   "id": "ad522bc6",
   "metadata": {},
   "outputs": [],
   "source": [
    "X_train, X_test, y_train, y_test = train_test_split(x, y, test_size=0.2, random_state=42)\n",
    "\n",
    "std_scaler = StandardScaler()\n",
    "X_train_scaled = std_scaler.fit_transform(X_train)\n",
    "\n",
    "X_test_scaled = std_scaler.transform(X_test)"
   ]
  },
  {
   "cell_type": "code",
   "execution_count": 32,
   "id": "df0918e0",
   "metadata": {},
   "outputs": [],
   "source": [
    "svm_regressor = SVR(kernel='rbf')\n",
    "svm_regressor.fit(X_train_scaled, y_train)\n",
    "\n",
    "predictions = svm_regressor.predict(X_test_scaled)"
   ]
  },
  {
   "cell_type": "code",
   "execution_count": 33,
   "id": "50875ad0",
   "metadata": {},
   "outputs": [
    {
     "name": "stderr",
     "output_type": "stream",
     "text": [
      "/Users/oliver/micromamba/envs/ml2/lib/python3.11/site-packages/sklearn/metrics/_regression.py:483: FutureWarning: 'squared' is deprecated in version 1.4 and will be removed in 1.6. To calculate the root mean squared error, use the function'root_mean_squared_error'.\n",
      "  warnings.warn(\n"
     ]
    },
    {
     "data": {
      "text/plain": [
       "443.34006151188555"
      ]
     },
     "execution_count": 33,
     "metadata": {},
     "output_type": "execute_result"
    }
   ],
   "source": [
    "svm_val_error = mean_squared_error(y_test, predictions, squared=False)\n",
    "svm_val_error"
   ]
  },
  {
   "cell_type": "code",
   "execution_count": 34,
   "id": "747950f8",
   "metadata": {},
   "outputs": [
    {
     "data": {
      "image/png": "[encoded data removed]",
      "text/plain": [
       "<Figure size 600x400 with 1 Axes>"
      ]
     },
     "metadata": {},
     "output_type": "display_data"
    }
   ],
   "source": [
    "from sklearn.pipeline import make_pipeline\n",
    "from sklearn.preprocessing import PolynomialFeatures\n",
    "from sklearn.model_selection import learning_curve\n",
    "\n",
    "train_sizes, train_scores, valid_scores = learning_curve(\n",
    "    SVR(), x, y, train_sizes=np.linspace(0.01, 1.0, 40), cv=5,\n",
    "    scoring=\"neg_root_mean_squared_error\")\n",
    "train_errors = -train_scores.mean(axis=1)\n",
    "valid_errors = -valid_scores.mean(axis=1)\n",
    "\n",
    "plt.figure(figsize=(6, 4))  # extra code – not needed, just formatting\n",
    "plt.plot(train_sizes, train_errors, \"r-+\", linewidth=2, label=\"train\")\n",
    "plt.plot(train_sizes, valid_errors, \"b-\", linewidth=3, label=\"valid\")\n",
    "\n",
    "# extra code – beautifies and saves Figure 4–15\n",
    "plt.xlabel(\"Training set size\")\n",
    "plt.ylabel(\"RMSE\")\n",
    "plt.grid()\n",
    "plt.legend(loc=\"upper right\")\n",
    "#plt.axis([0, 100, 0, 250])\n",
    "\n",
    "plt.title(\"SVM\")\n",
    "plt.show()"
   ]
  },
  {
   "cell_type": "code",
   "execution_count": 35,
   "id": "da248312",
   "metadata": {},
   "outputs": [],
   "source": [
    "#from sklearn.preprocessing import StandardScaler\n",
    "import tensorflow as tf\n",
    "from keras.models import Sequential\n",
    "from keras.layers import Dense"
   ]
  },
  {
   "cell_type": "code",
   "execution_count": 40,
   "id": "5b6d1451-5313-418e-bccd-928214e6468e",
   "metadata": {},
   "outputs": [],
   "source": [
    "# Install TensorBoard profile\n",
    "#%pip install -q -U tensorboard-plugin-profile"
   ]
  },
  {
   "cell_type": "code",
   "execution_count": 46,
   "id": "5f7bbff3-c732-4eb6-aabb-b6824ddbd778",
   "metadata": {},
   "outputs": [],
   "source": [
    "from keras.callbacks import TensorBoard\n",
    "import datetime\n",
    "from time import strftime\n",
    "\n",
    "log_dir = \"logs/fit/\" + datetime.datetime.now().strftime(\"%Y%m%d-%H%M%S\")\n",
    "tensorboard_callback = TensorBoard(log_dir=log_dir, histogram_freq=1)\n",
    "\n",
    "def get_run_logdir(root_logdir=\"my_logs\"):\n",
    "    return Path(root_logdir) / strftime(\"run_%Y_%m_%d_%H_%M_%S\")\n",
    "\n",
    "run_logdir =  get_run_logdir()"
   ]
  },
  {
   "cell_type": "code",
   "execution_count": 36,
   "id": "9ba695bf",
   "metadata": {},
   "outputs": [],
   "source": [
    "X = df_wr.drop(columns=['yards'])\n",
    "y = df_wr['yards']\n",
    "\n",
    "# Splitting the data into training and testing sets\n",
    "X_train, X_test, y_train, y_test = train_test_split(X, y, test_size=0.2, random_state=42)\n",
    "\n",
    "# Standardizing the features\n",
    "scaler = StandardScaler()\n",
    "X_train_scaled = scaler.fit_transform(X_train)\n",
    "X_test_scaled = scaler.transform(X_test)"
   ]
  },
  {
   "cell_type": "code",
   "execution_count": null,
   "id": "edd5a6b9-8c35-49dd-8e35-6822e13e7330",
   "metadata": {},
   "outputs": [],
   "source": [
    "# Creating a sequential model\n",
    "model = Sequential()\n",
    "\n",
    "# Adding input layer and first hidden layer\n",
    "model.add(Dense(10000, input_dim=X_train.shape[1], activation='relu'))\n",
    "\n",
    "# Adding output layer\n",
    "model.add(Dense(1))\n",
    "\n",
    "# Compiling the model\n",
    "model.compile(loss='mean_squared_error', optimizer='adam', metrics=['accuracy'])\n",
    "\n",
    "# Setting up TensorBoard logs\n",
    "tensorboard_cb = tf.keras.callbacks.TensorBoard(run_logdir,\n",
    "                                             profile_batch=(100,200))\n",
    "\n",
    "# Training the model\n",
    "history = model.fit(X_train_scaled, y_train, epochs=1500, batch_size=32, verbose=1, callbacks=[tensorboard_cb])"
   ]
  },
  {
   "cell_type": "code",
   "execution_count": 50,
   "id": "03e24dcf-57ca-42ec-b0b0-6d607f45b16c",
   "metadata": {},
   "outputs": [
    {
     "name": "stdout",
     "output_type": "stream",
     "text": [
      "\u001b[1m1/1\u001b[0m \u001b[32m━━━━━━━━━━━━━━━━━━━━\u001b[0m\u001b[37m\u001b[0m \u001b[1m0s\u001b[0m 72ms/step\n"
     ]
    },
    {
     "name": "stderr",
     "output_type": "stream",
     "text": [
      "/Users/oliver/micromamba/envs/ml2/lib/python3.11/site-packages/sklearn/metrics/_regression.py:483: FutureWarning: 'squared' is deprecated in version 1.4 and will be removed in 1.6. To calculate the root mean squared error, use the function'root_mean_squared_error'.\n",
      "  warnings.warn(\n"
     ]
    },
    {
     "data": {
      "text/plain": [
       "83.79686298883315"
      ]
     },
     "execution_count": 50,
     "metadata": {},
     "output_type": "execute_result"
    }
   ],
   "source": [
    "# Making predictions\n",
    "predictions = model.predict(X_test_scaled)\n",
    "\n",
    "# Evaluating the model\n",
    "neural_val_error = mean_squared_error(y_test, predictions, squared=False)\n",
    "neural_val_error"
   ]
  },
  {
   "cell_type": "code",
   "execution_count": 54,
   "id": "cf2316b6-a676-43c8-ac25-b28a0e797527",
   "metadata": {},
   "outputs": [
    {
     "name": "stdout",
     "output_type": "stream",
     "text": [
      "LinReg MSE:  57.046806312642374 \n",
      "Tree MSE:  125.22629516199862 \n",
      "RandForest MSE:  72.5357665798972 \n",
      "SVM MSE:  443.34006151188555 \n",
      "Neural Network MSE:  83.79686298883315\n"
     ]
    }
   ],
   "source": [
    "print(\"LinReg MSE: \", val_error, \"\\nTree MSE: \", tree_val_error, \"\\nRandForest MSE: \", forest_val_error, \"\\nSVM MSE: \", svm_val_error, \"\\nNeural Network MSE: \", neural_val_error)"
   ]
  },
  {
   "cell_type": "code",
   "execution_count": 52,
   "id": "912221d6-89af-4a18-b1d9-588aeab0bd7c",
   "metadata": {},
   "outputs": [
    {
     "name": "stdout",
     "output_type": "stream",
     "text": [
      "The tensorboard extension is already loaded. To reload it, use:\n",
      "  %reload_ext tensorboard\n"
     ]
    },
    {
     "data": {
      "text/plain": [
       "Reusing TensorBoard on port 6006 (pid 28489), started 0:13:57 ago. (Use '!kill 28489' to kill it.)"
      ]
     },
     "metadata": {},
     "output_type": "display_data"
    },
    {
     "data": {
      "text/html": [
       "\n",
       "      <iframe id=\"tensorboard-frame-553627e2aa44accf\" width=\"100%\" height=\"800\" frameborder=\"0\">\n",
       "      </iframe>\n",
       "      <script>\n",
       "        (function() {\n",
       "          const frame = document.getElementById(\"tensorboard-frame-553627e2aa44accf\");\n",
       "          const url = new URL(\"/\", window.location);\n",
       "          const port = 6006;\n",
       "          if (port) {\n",
       "            url.port = port;\n",
       "          }\n",
       "          frame.src = url;\n",
       "        })();\n",
       "      </script>\n",
       "    "
      ],
      "text/plain": [
       "<IPython.core.display.HTML object>"
      ]
     },
     "metadata": {},
     "output_type": "display_data"
    }
   ],
   "source": [
    "# Load TensorBoard interface\n",
    "%load_ext tensorboard\n",
    "%tensorboard --logdir=./my_logs"
   ]
  }
 ],
 "metadata": {
  "kernelspec": {
   "display_name": "Python 3 (ipykernel)",
   "language": "python",
   "name": "python3"
  },
  "language_info": {
   "codemirror_mode": {
    "name": "ipython",
    "version": 3
   },
   "file_extension": ".py",
   "mimetype": "text/x-python",
   "name": "python",
   "nbconvert_exporter": "python",
   "pygments_lexer": "ipython3",
   "version": "3.11.8"
  }
 },
 "nbformat": 4,
 "nbformat_minor": 5
}
