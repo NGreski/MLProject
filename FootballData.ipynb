{
 "cells": [
  {
   "cell_type": "code",
   "execution_count": 6,
   "id": "5f7f86d9-6921-4bb1-99b3-72174b6fc38d",
   "metadata": {},
   "outputs": [],
   "source": [
    "# Matthew - Testing Data ML project\n",
    "\n",
    "# imports\n",
    "import pandas as pd\n",
    "import seaborn as sns\n",
    "import numpy as np\n",
    "import matplotlib.pyplot as plt\n",
    "from pathlib import Path"
   ]
  },
  {
   "cell_type": "code",
   "execution_count": 7,
   "id": "3a993e27-09bd-403d-8e6e-955ce42f0d17",
   "metadata": {},
   "outputs": [
    {
     "data": {
      "text/html": [
       "<div>\n",
       "<style scoped>\n",
       "    .dataframe tbody tr th:only-of-type {\n",
       "        vertical-align: middle;\n",
       "    }\n",
       "\n",
       "    .dataframe tbody tr th {\n",
       "        vertical-align: top;\n",
       "    }\n",
       "\n",
       "    .dataframe thead th {\n",
       "        text-align: right;\n",
       "    }\n",
       "</style>\n",
       "<table border=\"1\" class=\"dataframe\">\n",
       "  <thead>\n",
       "    <tr style=\"text-align: right;\">\n",
       "      <th></th>\n",
       "      <th>player</th>\n",
       "      <th>player_id</th>\n",
       "      <th>position</th>\n",
       "      <th>team_name</th>\n",
       "      <th>player_game_count</th>\n",
       "      <th>avg_depth_of_target</th>\n",
       "      <th>avoided_tackles</th>\n",
       "      <th>caught_percent</th>\n",
       "      <th>contested_catch_rate</th>\n",
       "      <th>contested_receptions</th>\n",
       "      <th>...</th>\n",
       "      <th>targeted_qb_rating</th>\n",
       "      <th>targets</th>\n",
       "      <th>touchdowns</th>\n",
       "      <th>wide_rate</th>\n",
       "      <th>wide_snaps</th>\n",
       "      <th>yards</th>\n",
       "      <th>yards_after_catch</th>\n",
       "      <th>yards_after_catch_per_reception</th>\n",
       "      <th>yards_per_reception</th>\n",
       "      <th>yprr</th>\n",
       "    </tr>\n",
       "  </thead>\n",
       "  <tbody>\n",
       "    <tr>\n",
       "      <th>0</th>\n",
       "      <td>CeeDee Lamb</td>\n",
       "      <td>61570</td>\n",
       "      <td>WR</td>\n",
       "      <td>DAL</td>\n",
       "      <td>18</td>\n",
       "      <td>10.4</td>\n",
       "      <td>20</td>\n",
       "      <td>73.1</td>\n",
       "      <td>36.7</td>\n",
       "      <td>11</td>\n",
       "      <td>...</td>\n",
       "      <td>118.4</td>\n",
       "      <td>197</td>\n",
       "      <td>12</td>\n",
       "      <td>40.3</td>\n",
       "      <td>299</td>\n",
       "      <td>1859</td>\n",
       "      <td>709</td>\n",
       "      <td>4.9</td>\n",
       "      <td>12.9</td>\n",
       "      <td>2.69</td>\n",
       "    </tr>\n",
       "    <tr>\n",
       "      <th>1</th>\n",
       "      <td>Amon-Ra St. Brown</td>\n",
       "      <td>84470</td>\n",
       "      <td>WR</td>\n",
       "      <td>DET</td>\n",
       "      <td>19</td>\n",
       "      <td>8.0</td>\n",
       "      <td>21</td>\n",
       "      <td>74.2</td>\n",
       "      <td>51.7</td>\n",
       "      <td>15</td>\n",
       "      <td>...</td>\n",
       "      <td>115.9</td>\n",
       "      <td>190</td>\n",
       "      <td>11</td>\n",
       "      <td>43.6</td>\n",
       "      <td>316</td>\n",
       "      <td>1789</td>\n",
       "      <td>802</td>\n",
       "      <td>5.7</td>\n",
       "      <td>12.7</td>\n",
       "      <td>2.59</td>\n",
       "    </tr>\n",
       "    <tr>\n",
       "      <th>2</th>\n",
       "      <td>Stefon Diggs</td>\n",
       "      <td>9579</td>\n",
       "      <td>WR</td>\n",
       "      <td>BUF</td>\n",
       "      <td>19</td>\n",
       "      <td>10.6</td>\n",
       "      <td>21</td>\n",
       "      <td>66.9</td>\n",
       "      <td>41.9</td>\n",
       "      <td>13</td>\n",
       "      <td>...</td>\n",
       "      <td>93.4</td>\n",
       "      <td>175</td>\n",
       "      <td>8</td>\n",
       "      <td>63.1</td>\n",
       "      <td>444</td>\n",
       "      <td>1256</td>\n",
       "      <td>460</td>\n",
       "      <td>3.9</td>\n",
       "      <td>10.7</td>\n",
       "      <td>1.89</td>\n",
       "    </tr>\n",
       "    <tr>\n",
       "      <th>3</th>\n",
       "      <td>Tyreek Hill</td>\n",
       "      <td>10799</td>\n",
       "      <td>WR</td>\n",
       "      <td>MIA</td>\n",
       "      <td>17</td>\n",
       "      <td>11.3</td>\n",
       "      <td>28</td>\n",
       "      <td>70.9</td>\n",
       "      <td>30.4</td>\n",
       "      <td>7</td>\n",
       "      <td>...</td>\n",
       "      <td>120.2</td>\n",
       "      <td>175</td>\n",
       "      <td>14</td>\n",
       "      <td>60.5</td>\n",
       "      <td>315</td>\n",
       "      <td>1861</td>\n",
       "      <td>689</td>\n",
       "      <td>5.6</td>\n",
       "      <td>15.0</td>\n",
       "      <td>3.72</td>\n",
       "    </tr>\n",
       "    <tr>\n",
       "      <th>4</th>\n",
       "      <td>Davante Adams</td>\n",
       "      <td>8688</td>\n",
       "      <td>WR</td>\n",
       "      <td>LV</td>\n",
       "      <td>17</td>\n",
       "      <td>11.1</td>\n",
       "      <td>8</td>\n",
       "      <td>60.2</td>\n",
       "      <td>35.3</td>\n",
       "      <td>12</td>\n",
       "      <td>...</td>\n",
       "      <td>81.1</td>\n",
       "      <td>171</td>\n",
       "      <td>8</td>\n",
       "      <td>82.0</td>\n",
       "      <td>496</td>\n",
       "      <td>1144</td>\n",
       "      <td>337</td>\n",
       "      <td>3.3</td>\n",
       "      <td>11.1</td>\n",
       "      <td>1.97</td>\n",
       "    </tr>\n",
       "    <tr>\n",
       "      <th>...</th>\n",
       "      <td>...</td>\n",
       "      <td>...</td>\n",
       "      <td>...</td>\n",
       "      <td>...</td>\n",
       "      <td>...</td>\n",
       "      <td>...</td>\n",
       "      <td>...</td>\n",
       "      <td>...</td>\n",
       "      <td>...</td>\n",
       "      <td>...</td>\n",
       "      <td>...</td>\n",
       "      <td>...</td>\n",
       "      <td>...</td>\n",
       "      <td>...</td>\n",
       "      <td>...</td>\n",
       "      <td>...</td>\n",
       "      <td>...</td>\n",
       "      <td>...</td>\n",
       "      <td>...</td>\n",
       "      <td>...</td>\n",
       "      <td>...</td>\n",
       "    </tr>\n",
       "    <tr>\n",
       "      <th>481</th>\n",
       "      <td>Brandin Echols</td>\n",
       "      <td>98900</td>\n",
       "      <td>CB</td>\n",
       "      <td>NYJ</td>\n",
       "      <td>1</td>\n",
       "      <td>9.0</td>\n",
       "      <td>0</td>\n",
       "      <td>100.0</td>\n",
       "      <td>NaN</td>\n",
       "      <td>0</td>\n",
       "      <td>...</td>\n",
       "      <td>118.8</td>\n",
       "      <td>1</td>\n",
       "      <td>0</td>\n",
       "      <td>0.0</td>\n",
       "      <td>0</td>\n",
       "      <td>18</td>\n",
       "      <td>9</td>\n",
       "      <td>9.0</td>\n",
       "      <td>18.0</td>\n",
       "      <td>18.00</td>\n",
       "    </tr>\n",
       "    <tr>\n",
       "      <th>482</th>\n",
       "      <td>Malcolm Rodriguez</td>\n",
       "      <td>60731</td>\n",
       "      <td>LB</td>\n",
       "      <td>DET</td>\n",
       "      <td>4</td>\n",
       "      <td>6.0</td>\n",
       "      <td>0</td>\n",
       "      <td>100.0</td>\n",
       "      <td>NaN</td>\n",
       "      <td>0</td>\n",
       "      <td>...</td>\n",
       "      <td>91.7</td>\n",
       "      <td>1</td>\n",
       "      <td>0</td>\n",
       "      <td>10.0</td>\n",
       "      <td>1</td>\n",
       "      <td>6</td>\n",
       "      <td>0</td>\n",
       "      <td>0.0</td>\n",
       "      <td>6.0</td>\n",
       "      <td>1.20</td>\n",
       "    </tr>\n",
       "    <tr>\n",
       "      <th>483</th>\n",
       "      <td>Cody Thompson</td>\n",
       "      <td>48152</td>\n",
       "      <td>WR</td>\n",
       "      <td>SEA</td>\n",
       "      <td>6</td>\n",
       "      <td>7.0</td>\n",
       "      <td>0</td>\n",
       "      <td>100.0</td>\n",
       "      <td>NaN</td>\n",
       "      <td>0</td>\n",
       "      <td>...</td>\n",
       "      <td>108.3</td>\n",
       "      <td>1</td>\n",
       "      <td>0</td>\n",
       "      <td>85.7</td>\n",
       "      <td>6</td>\n",
       "      <td>10</td>\n",
       "      <td>3</td>\n",
       "      <td>3.0</td>\n",
       "      <td>10.0</td>\n",
       "      <td>1.43</td>\n",
       "    </tr>\n",
       "    <tr>\n",
       "      <th>484</th>\n",
       "      <td>Sam Howell</td>\n",
       "      <td>97599</td>\n",
       "      <td>QB</td>\n",
       "      <td>WAS</td>\n",
       "      <td>17</td>\n",
       "      <td>1.0</td>\n",
       "      <td>0</td>\n",
       "      <td>100.0</td>\n",
       "      <td>NaN</td>\n",
       "      <td>0</td>\n",
       "      <td>...</td>\n",
       "      <td>83.3</td>\n",
       "      <td>1</td>\n",
       "      <td>0</td>\n",
       "      <td>0.0</td>\n",
       "      <td>0</td>\n",
       "      <td>4</td>\n",
       "      <td>3</td>\n",
       "      <td>3.0</td>\n",
       "      <td>4.0</td>\n",
       "      <td>4.00</td>\n",
       "    </tr>\n",
       "    <tr>\n",
       "      <th>485</th>\n",
       "      <td>Royce Freeman</td>\n",
       "      <td>45747</td>\n",
       "      <td>HB</td>\n",
       "      <td>LA</td>\n",
       "      <td>10</td>\n",
       "      <td>-1.0</td>\n",
       "      <td>1</td>\n",
       "      <td>100.0</td>\n",
       "      <td>NaN</td>\n",
       "      <td>0</td>\n",
       "      <td>...</td>\n",
       "      <td>118.8</td>\n",
       "      <td>1</td>\n",
       "      <td>0</td>\n",
       "      <td>4.1</td>\n",
       "      <td>5</td>\n",
       "      <td>13</td>\n",
       "      <td>14</td>\n",
       "      <td>14.0</td>\n",
       "      <td>13.0</td>\n",
       "      <td>0.16</td>\n",
       "    </tr>\n",
       "  </tbody>\n",
       "</table>\n",
       "<p>486 rows × 45 columns</p>\n",
       "</div>"
      ],
      "text/plain": [
       "                player  player_id position team_name  player_game_count  \\\n",
       "0          CeeDee Lamb      61570       WR       DAL                 18   \n",
       "1    Amon-Ra St. Brown      84470       WR       DET                 19   \n",
       "2         Stefon Diggs       9579       WR       BUF                 19   \n",
       "3          Tyreek Hill      10799       WR       MIA                 17   \n",
       "4        Davante Adams       8688       WR        LV                 17   \n",
       "..                 ...        ...      ...       ...                ...   \n",
       "481     Brandin Echols      98900       CB       NYJ                  1   \n",
       "482  Malcolm Rodriguez      60731       LB       DET                  4   \n",
       "483      Cody Thompson      48152       WR       SEA                  6   \n",
       "484         Sam Howell      97599       QB       WAS                 17   \n",
       "485      Royce Freeman      45747       HB        LA                 10   \n",
       "\n",
       "     avg_depth_of_target  avoided_tackles  caught_percent  \\\n",
       "0                   10.4               20            73.1   \n",
       "1                    8.0               21            74.2   \n",
       "2                   10.6               21            66.9   \n",
       "3                   11.3               28            70.9   \n",
       "4                   11.1                8            60.2   \n",
       "..                   ...              ...             ...   \n",
       "481                  9.0                0           100.0   \n",
       "482                  6.0                0           100.0   \n",
       "483                  7.0                0           100.0   \n",
       "484                  1.0                0           100.0   \n",
       "485                 -1.0                1           100.0   \n",
       "\n",
       "     contested_catch_rate  contested_receptions  ...  targeted_qb_rating  \\\n",
       "0                    36.7                    11  ...               118.4   \n",
       "1                    51.7                    15  ...               115.9   \n",
       "2                    41.9                    13  ...                93.4   \n",
       "3                    30.4                     7  ...               120.2   \n",
       "4                    35.3                    12  ...                81.1   \n",
       "..                    ...                   ...  ...                 ...   \n",
       "481                   NaN                     0  ...               118.8   \n",
       "482                   NaN                     0  ...                91.7   \n",
       "483                   NaN                     0  ...               108.3   \n",
       "484                   NaN                     0  ...                83.3   \n",
       "485                   NaN                     0  ...               118.8   \n",
       "\n",
       "     targets  touchdowns  wide_rate  wide_snaps  yards  yards_after_catch  \\\n",
       "0        197          12       40.3         299   1859                709   \n",
       "1        190          11       43.6         316   1789                802   \n",
       "2        175           8       63.1         444   1256                460   \n",
       "3        175          14       60.5         315   1861                689   \n",
       "4        171           8       82.0         496   1144                337   \n",
       "..       ...         ...        ...         ...    ...                ...   \n",
       "481        1           0        0.0           0     18                  9   \n",
       "482        1           0       10.0           1      6                  0   \n",
       "483        1           0       85.7           6     10                  3   \n",
       "484        1           0        0.0           0      4                  3   \n",
       "485        1           0        4.1           5     13                 14   \n",
       "\n",
       "     yards_after_catch_per_reception  yards_per_reception   yprr  \n",
       "0                                4.9                 12.9   2.69  \n",
       "1                                5.7                 12.7   2.59  \n",
       "2                                3.9                 10.7   1.89  \n",
       "3                                5.6                 15.0   3.72  \n",
       "4                                3.3                 11.1   1.97  \n",
       "..                               ...                  ...    ...  \n",
       "481                              9.0                 18.0  18.00  \n",
       "482                              0.0                  6.0   1.20  \n",
       "483                              3.0                 10.0   1.43  \n",
       "484                              3.0                  4.0   4.00  \n",
       "485                             14.0                 13.0   0.16  \n",
       "\n",
       "[486 rows x 45 columns]"
      ]
     },
     "execution_count": 7,
     "metadata": {},
     "output_type": "execute_result"
    }
   ],
   "source": [
    "df = pd.read_csv(Path(\"wr_data.csv\"))\n",
    "df"
   ]
  },
  {
   "cell_type": "code",
   "execution_count": 8,
   "id": "8137ed66-1150-4780-a023-954e03b230c6",
   "metadata": {},
   "outputs": [
    {
     "data": {
      "text/plain": [
       "player                               0\n",
       "player_id                            0\n",
       "position                             0\n",
       "team_name                            0\n",
       "player_game_count                    0\n",
       "avg_depth_of_target                  0\n",
       "avoided_tackles                      0\n",
       "caught_percent                       0\n",
       "contested_catch_rate               143\n",
       "contested_receptions                 0\n",
       "contested_targets                    0\n",
       "declined_penalties                   0\n",
       "drop_rate                           16\n",
       "drops                                0\n",
       "first_downs                          0\n",
       "franchise_id                         0\n",
       "fumbles                              0\n",
       "grades_hands_drop                   20\n",
       "grades_hands_fumble                 13\n",
       "grades_offense                       0\n",
       "grades_pass_block                  148\n",
       "grades_pass_route                    1\n",
       "inline_rate                          0\n",
       "inline_snaps                         0\n",
       "interceptions                        0\n",
       "longest                              0\n",
       "pass_block_rate                      0\n",
       "pass_blocks                          0\n",
       "pass_plays                           0\n",
       "penalties                            0\n",
       "receptions                           0\n",
       "route_rate                           0\n",
       "routes                               0\n",
       "slot_rate                            0\n",
       "slot_snaps                           0\n",
       "targeted_qb_rating                   0\n",
       "targets                              0\n",
       "touchdowns                           0\n",
       "wide_rate                            0\n",
       "wide_snaps                           0\n",
       "yards                                0\n",
       "yards_after_catch                    0\n",
       "yards_after_catch_per_reception     19\n",
       "yards_per_reception                 19\n",
       "yprr                                 3\n",
       "dtype: int64"
      ]
     },
     "execution_count": 8,
     "metadata": {},
     "output_type": "execute_result"
    }
   ],
   "source": [
    "df.isnull().sum()"
   ]
  },
  {
   "cell_type": "code",
   "execution_count": 9,
   "id": "a1d167e0-1549-4eba-99de-f7635b727544",
   "metadata": {},
   "outputs": [
    {
     "data": {
      "text/plain": [
       "player                              object\n",
       "player_id                            int64\n",
       "position                            object\n",
       "team_name                           object\n",
       "player_game_count                    int64\n",
       "avg_depth_of_target                float64\n",
       "avoided_tackles                      int64\n",
       "caught_percent                     float64\n",
       "contested_catch_rate               float64\n",
       "contested_receptions                 int64\n",
       "contested_targets                    int64\n",
       "declined_penalties                   int64\n",
       "drop_rate                          float64\n",
       "drops                                int64\n",
       "first_downs                          int64\n",
       "franchise_id                         int64\n",
       "fumbles                              int64\n",
       "grades_hands_drop                  float64\n",
       "grades_hands_fumble                float64\n",
       "grades_offense                     float64\n",
       "grades_pass_block                  float64\n",
       "grades_pass_route                  float64\n",
       "inline_rate                        float64\n",
       "inline_snaps                         int64\n",
       "interceptions                        int64\n",
       "longest                              int64\n",
       "pass_block_rate                    float64\n",
       "pass_blocks                          int64\n",
       "pass_plays                           int64\n",
       "penalties                            int64\n",
       "receptions                           int64\n",
       "route_rate                         float64\n",
       "routes                               int64\n",
       "slot_rate                          float64\n",
       "slot_snaps                           int64\n",
       "targeted_qb_rating                 float64\n",
       "targets                              int64\n",
       "touchdowns                           int64\n",
       "wide_rate                          float64\n",
       "wide_snaps                           int64\n",
       "yards                                int64\n",
       "yards_after_catch                    int64\n",
       "yards_after_catch_per_reception    float64\n",
       "yards_per_reception                float64\n",
       "yprr                               float64\n",
       "dtype: object"
      ]
     },
     "execution_count": 9,
     "metadata": {},
     "output_type": "execute_result"
    }
   ],
   "source": [
    "df.dtypes"
   ]
  },
  {
   "cell_type": "code",
   "execution_count": 10,
   "id": "ac4325f4-6607-44e2-a7e1-7132a61cd336",
   "metadata": {},
   "outputs": [],
   "source": [
    "# Cleaning Data\n",
    "df_wr = df[df['position'] == \"WR\"]\n",
    "df_wr = df_wr[df_wr[\"routes\"] > 200]\n",
    "\n",
    "df_wr = df_wr[[\"yards\", \"player\", \"player_id\", \"player_game_count\", \"avg_depth_of_target\", \"avoided_tackles\", \"caught_percent\", \"contested_catch_rate\",               \n",
    "\"contested_receptions\", \"contested_targets\", \"drop_rate\", \"drops\", \"fumbles\", \"pass_plays\", \"receptions\", \"route_rate\", \"routes\", \"slot_rate\",\n",
    "\"slot_snaps\", \"targeted_qb_rating\", \"targets\", \"touchdowns\", \"wide_rate\", \"wide_snaps\", \"yards_after_catch\", \"yards_after_catch_per_reception\",\n",
    "\"yards_per_reception\", \"yprr\"]]"
   ]
  },
  {
   "cell_type": "code",
   "execution_count": 11,
   "id": "e1764f47-2d36-4e8a-bd7b-087f9b47bf8c",
   "metadata": {},
   "outputs": [
    {
     "data": {
      "text/html": [
       "<div>\n",
       "<style scoped>\n",
       "    .dataframe tbody tr th:only-of-type {\n",
       "        vertical-align: middle;\n",
       "    }\n",
       "\n",
       "    .dataframe tbody tr th {\n",
       "        vertical-align: top;\n",
       "    }\n",
       "\n",
       "    .dataframe thead th {\n",
       "        text-align: right;\n",
       "    }\n",
       "</style>\n",
       "<table border=\"1\" class=\"dataframe\">\n",
       "  <thead>\n",
       "    <tr style=\"text-align: right;\">\n",
       "      <th></th>\n",
       "      <th>yards</th>\n",
       "      <th>player</th>\n",
       "      <th>player_id</th>\n",
       "      <th>player_game_count</th>\n",
       "      <th>avg_depth_of_target</th>\n",
       "      <th>avoided_tackles</th>\n",
       "      <th>caught_percent</th>\n",
       "      <th>contested_catch_rate</th>\n",
       "      <th>contested_receptions</th>\n",
       "      <th>contested_targets</th>\n",
       "      <th>...</th>\n",
       "      <th>slot_snaps</th>\n",
       "      <th>targeted_qb_rating</th>\n",
       "      <th>targets</th>\n",
       "      <th>touchdowns</th>\n",
       "      <th>wide_rate</th>\n",
       "      <th>wide_snaps</th>\n",
       "      <th>yards_after_catch</th>\n",
       "      <th>yards_after_catch_per_reception</th>\n",
       "      <th>yards_per_reception</th>\n",
       "      <th>yprr</th>\n",
       "    </tr>\n",
       "  </thead>\n",
       "  <tbody>\n",
       "    <tr>\n",
       "      <th>0</th>\n",
       "      <td>1859</td>\n",
       "      <td>CeeDee Lamb</td>\n",
       "      <td>61570</td>\n",
       "      <td>18</td>\n",
       "      <td>10.4</td>\n",
       "      <td>20</td>\n",
       "      <td>73.1</td>\n",
       "      <td>36.7</td>\n",
       "      <td>11</td>\n",
       "      <td>30</td>\n",
       "      <td>...</td>\n",
       "      <td>435</td>\n",
       "      <td>118.4</td>\n",
       "      <td>197</td>\n",
       "      <td>12</td>\n",
       "      <td>40.3</td>\n",
       "      <td>299</td>\n",
       "      <td>709</td>\n",
       "      <td>4.9</td>\n",
       "      <td>12.9</td>\n",
       "      <td>2.69</td>\n",
       "    </tr>\n",
       "    <tr>\n",
       "      <th>1</th>\n",
       "      <td>1789</td>\n",
       "      <td>Amon-Ra St. Brown</td>\n",
       "      <td>84470</td>\n",
       "      <td>19</td>\n",
       "      <td>8.0</td>\n",
       "      <td>21</td>\n",
       "      <td>74.2</td>\n",
       "      <td>51.7</td>\n",
       "      <td>15</td>\n",
       "      <td>29</td>\n",
       "      <td>...</td>\n",
       "      <td>401</td>\n",
       "      <td>115.9</td>\n",
       "      <td>190</td>\n",
       "      <td>11</td>\n",
       "      <td>43.6</td>\n",
       "      <td>316</td>\n",
       "      <td>802</td>\n",
       "      <td>5.7</td>\n",
       "      <td>12.7</td>\n",
       "      <td>2.59</td>\n",
       "    </tr>\n",
       "    <tr>\n",
       "      <th>2</th>\n",
       "      <td>1256</td>\n",
       "      <td>Stefon Diggs</td>\n",
       "      <td>9579</td>\n",
       "      <td>19</td>\n",
       "      <td>10.6</td>\n",
       "      <td>21</td>\n",
       "      <td>66.9</td>\n",
       "      <td>41.9</td>\n",
       "      <td>13</td>\n",
       "      <td>31</td>\n",
       "      <td>...</td>\n",
       "      <td>251</td>\n",
       "      <td>93.4</td>\n",
       "      <td>175</td>\n",
       "      <td>8</td>\n",
       "      <td>63.1</td>\n",
       "      <td>444</td>\n",
       "      <td>460</td>\n",
       "      <td>3.9</td>\n",
       "      <td>10.7</td>\n",
       "      <td>1.89</td>\n",
       "    </tr>\n",
       "    <tr>\n",
       "      <th>3</th>\n",
       "      <td>1861</td>\n",
       "      <td>Tyreek Hill</td>\n",
       "      <td>10799</td>\n",
       "      <td>17</td>\n",
       "      <td>11.3</td>\n",
       "      <td>28</td>\n",
       "      <td>70.9</td>\n",
       "      <td>30.4</td>\n",
       "      <td>7</td>\n",
       "      <td>23</td>\n",
       "      <td>...</td>\n",
       "      <td>195</td>\n",
       "      <td>120.2</td>\n",
       "      <td>175</td>\n",
       "      <td>14</td>\n",
       "      <td>60.5</td>\n",
       "      <td>315</td>\n",
       "      <td>689</td>\n",
       "      <td>5.6</td>\n",
       "      <td>15.0</td>\n",
       "      <td>3.72</td>\n",
       "    </tr>\n",
       "    <tr>\n",
       "      <th>4</th>\n",
       "      <td>1144</td>\n",
       "      <td>Davante Adams</td>\n",
       "      <td>8688</td>\n",
       "      <td>17</td>\n",
       "      <td>11.1</td>\n",
       "      <td>8</td>\n",
       "      <td>60.2</td>\n",
       "      <td>35.3</td>\n",
       "      <td>12</td>\n",
       "      <td>34</td>\n",
       "      <td>...</td>\n",
       "      <td>102</td>\n",
       "      <td>81.1</td>\n",
       "      <td>171</td>\n",
       "      <td>8</td>\n",
       "      <td>82.0</td>\n",
       "      <td>496</td>\n",
       "      <td>337</td>\n",
       "      <td>3.3</td>\n",
       "      <td>11.1</td>\n",
       "      <td>1.97</td>\n",
       "    </tr>\n",
       "    <tr>\n",
       "      <th>...</th>\n",
       "      <td>...</td>\n",
       "      <td>...</td>\n",
       "      <td>...</td>\n",
       "      <td>...</td>\n",
       "      <td>...</td>\n",
       "      <td>...</td>\n",
       "      <td>...</td>\n",
       "      <td>...</td>\n",
       "      <td>...</td>\n",
       "      <td>...</td>\n",
       "      <td>...</td>\n",
       "      <td>...</td>\n",
       "      <td>...</td>\n",
       "      <td>...</td>\n",
       "      <td>...</td>\n",
       "      <td>...</td>\n",
       "      <td>...</td>\n",
       "      <td>...</td>\n",
       "      <td>...</td>\n",
       "      <td>...</td>\n",
       "      <td>...</td>\n",
       "    </tr>\n",
       "    <tr>\n",
       "      <th>224</th>\n",
       "      <td>154</td>\n",
       "      <td>Quez Watkins</td>\n",
       "      <td>61664</td>\n",
       "      <td>9</td>\n",
       "      <td>10.4</td>\n",
       "      <td>1</td>\n",
       "      <td>72.0</td>\n",
       "      <td>57.1</td>\n",
       "      <td>4</td>\n",
       "      <td>7</td>\n",
       "      <td>...</td>\n",
       "      <td>146</td>\n",
       "      <td>67.8</td>\n",
       "      <td>25</td>\n",
       "      <td>1</td>\n",
       "      <td>38.9</td>\n",
       "      <td>93</td>\n",
       "      <td>66</td>\n",
       "      <td>3.7</td>\n",
       "      <td>8.6</td>\n",
       "      <td>0.68</td>\n",
       "    </tr>\n",
       "    <tr>\n",
       "      <th>228</th>\n",
       "      <td>155</td>\n",
       "      <td>Donovan Peoples-Jones</td>\n",
       "      <td>61439</td>\n",
       "      <td>17</td>\n",
       "      <td>11.5</td>\n",
       "      <td>2</td>\n",
       "      <td>54.2</td>\n",
       "      <td>100.0</td>\n",
       "      <td>1</td>\n",
       "      <td>1</td>\n",
       "      <td>...</td>\n",
       "      <td>90</td>\n",
       "      <td>39.4</td>\n",
       "      <td>24</td>\n",
       "      <td>0</td>\n",
       "      <td>68.5</td>\n",
       "      <td>196</td>\n",
       "      <td>34</td>\n",
       "      <td>2.6</td>\n",
       "      <td>11.9</td>\n",
       "      <td>0.59</td>\n",
       "    </tr>\n",
       "    <tr>\n",
       "      <th>258</th>\n",
       "      <td>162</td>\n",
       "      <td>Lil'Jordan Humphrey</td>\n",
       "      <td>42247</td>\n",
       "      <td>17</td>\n",
       "      <td>9.9</td>\n",
       "      <td>3</td>\n",
       "      <td>65.0</td>\n",
       "      <td>50.0</td>\n",
       "      <td>1</td>\n",
       "      <td>2</td>\n",
       "      <td>...</td>\n",
       "      <td>154</td>\n",
       "      <td>129.6</td>\n",
       "      <td>20</td>\n",
       "      <td>3</td>\n",
       "      <td>34.3</td>\n",
       "      <td>83</td>\n",
       "      <td>98</td>\n",
       "      <td>7.5</td>\n",
       "      <td>12.5</td>\n",
       "      <td>0.73</td>\n",
       "    </tr>\n",
       "    <tr>\n",
       "      <th>262</th>\n",
       "      <td>169</td>\n",
       "      <td>Olamide Zaccheaus</td>\n",
       "      <td>44920</td>\n",
       "      <td>18</td>\n",
       "      <td>12.5</td>\n",
       "      <td>0</td>\n",
       "      <td>57.9</td>\n",
       "      <td>40.0</td>\n",
       "      <td>2</td>\n",
       "      <td>5</td>\n",
       "      <td>...</td>\n",
       "      <td>233</td>\n",
       "      <td>122.5</td>\n",
       "      <td>19</td>\n",
       "      <td>2</td>\n",
       "      <td>32.9</td>\n",
       "      <td>115</td>\n",
       "      <td>54</td>\n",
       "      <td>4.9</td>\n",
       "      <td>15.4</td>\n",
       "      <td>0.50</td>\n",
       "    </tr>\n",
       "    <tr>\n",
       "      <th>273</th>\n",
       "      <td>246</td>\n",
       "      <td>A.T. Perry</td>\n",
       "      <td>77975</td>\n",
       "      <td>10</td>\n",
       "      <td>17.3</td>\n",
       "      <td>0</td>\n",
       "      <td>66.7</td>\n",
       "      <td>66.7</td>\n",
       "      <td>4</td>\n",
       "      <td>6</td>\n",
       "      <td>...</td>\n",
       "      <td>54</td>\n",
       "      <td>149.3</td>\n",
       "      <td>18</td>\n",
       "      <td>4</td>\n",
       "      <td>74.9</td>\n",
       "      <td>161</td>\n",
       "      <td>19</td>\n",
       "      <td>1.6</td>\n",
       "      <td>20.5</td>\n",
       "      <td>1.18</td>\n",
       "    </tr>\n",
       "  </tbody>\n",
       "</table>\n",
       "<p>120 rows × 28 columns</p>\n",
       "</div>"
      ],
      "text/plain": [
       "     yards                 player  player_id  player_game_count  \\\n",
       "0     1859            CeeDee Lamb      61570                 18   \n",
       "1     1789      Amon-Ra St. Brown      84470                 19   \n",
       "2     1256           Stefon Diggs       9579                 19   \n",
       "3     1861            Tyreek Hill      10799                 17   \n",
       "4     1144          Davante Adams       8688                 17   \n",
       "..     ...                    ...        ...                ...   \n",
       "224    154           Quez Watkins      61664                  9   \n",
       "228    155  Donovan Peoples-Jones      61439                 17   \n",
       "258    162    Lil'Jordan Humphrey      42247                 17   \n",
       "262    169      Olamide Zaccheaus      44920                 18   \n",
       "273    246             A.T. Perry      77975                 10   \n",
       "\n",
       "     avg_depth_of_target  avoided_tackles  caught_percent  \\\n",
       "0                   10.4               20            73.1   \n",
       "1                    8.0               21            74.2   \n",
       "2                   10.6               21            66.9   \n",
       "3                   11.3               28            70.9   \n",
       "4                   11.1                8            60.2   \n",
       "..                   ...              ...             ...   \n",
       "224                 10.4                1            72.0   \n",
       "228                 11.5                2            54.2   \n",
       "258                  9.9                3            65.0   \n",
       "262                 12.5                0            57.9   \n",
       "273                 17.3                0            66.7   \n",
       "\n",
       "     contested_catch_rate  contested_receptions  contested_targets  ...  \\\n",
       "0                    36.7                    11                 30  ...   \n",
       "1                    51.7                    15                 29  ...   \n",
       "2                    41.9                    13                 31  ...   \n",
       "3                    30.4                     7                 23  ...   \n",
       "4                    35.3                    12                 34  ...   \n",
       "..                    ...                   ...                ...  ...   \n",
       "224                  57.1                     4                  7  ...   \n",
       "228                 100.0                     1                  1  ...   \n",
       "258                  50.0                     1                  2  ...   \n",
       "262                  40.0                     2                  5  ...   \n",
       "273                  66.7                     4                  6  ...   \n",
       "\n",
       "     slot_snaps  targeted_qb_rating  targets  touchdowns  wide_rate  \\\n",
       "0           435               118.4      197          12       40.3   \n",
       "1           401               115.9      190          11       43.6   \n",
       "2           251                93.4      175           8       63.1   \n",
       "3           195               120.2      175          14       60.5   \n",
       "4           102                81.1      171           8       82.0   \n",
       "..          ...                 ...      ...         ...        ...   \n",
       "224         146                67.8       25           1       38.9   \n",
       "228          90                39.4       24           0       68.5   \n",
       "258         154               129.6       20           3       34.3   \n",
       "262         233               122.5       19           2       32.9   \n",
       "273          54               149.3       18           4       74.9   \n",
       "\n",
       "     wide_snaps  yards_after_catch  yards_after_catch_per_reception  \\\n",
       "0           299                709                              4.9   \n",
       "1           316                802                              5.7   \n",
       "2           444                460                              3.9   \n",
       "3           315                689                              5.6   \n",
       "4           496                337                              3.3   \n",
       "..          ...                ...                              ...   \n",
       "224          93                 66                              3.7   \n",
       "228         196                 34                              2.6   \n",
       "258          83                 98                              7.5   \n",
       "262         115                 54                              4.9   \n",
       "273         161                 19                              1.6   \n",
       "\n",
       "     yards_per_reception  yprr  \n",
       "0                   12.9  2.69  \n",
       "1                   12.7  2.59  \n",
       "2                   10.7  1.89  \n",
       "3                   15.0  3.72  \n",
       "4                   11.1  1.97  \n",
       "..                   ...   ...  \n",
       "224                  8.6  0.68  \n",
       "228                 11.9  0.59  \n",
       "258                 12.5  0.73  \n",
       "262                 15.4  0.50  \n",
       "273                 20.5  1.18  \n",
       "\n",
       "[120 rows x 28 columns]"
      ]
     },
     "execution_count": 11,
     "metadata": {},
     "output_type": "execute_result"
    }
   ],
   "source": [
    "df_wr"
   ]
  },
  {
   "cell_type": "code",
   "execution_count": 12,
   "id": "9d19382c-3cce-4904-a1c4-f41cc80aaa71",
   "metadata": {},
   "outputs": [
    {
     "data": {
      "image/png": "[encoded data removed]",
      "text/plain": [
       "<Figure size 1000x600 with 1 Axes>"
      ]
     },
     "metadata": {},
     "output_type": "display_data"
    }
   ],
   "source": [
    "plt.figure(figsize=(10, 6))\n",
    "plt.hist(df_wr['yards'], bins=20, color='skyblue', edgecolor='black')  # Adjust the number of bins as needed\n",
    "plt.title('Total Yards')\n",
    "plt.xlabel('Yards')\n",
    "plt.ylabel('Frequency')\n",
    "plt.grid(True)\n",
    "plt.show()"
   ]
  },
  {
   "cell_type": "code",
   "execution_count": 13,
   "id": "d7830729-e9cc-4e1a-8b66-612283a765f8",
   "metadata": {},
   "outputs": [
    {
     "data": {
      "text/plain": [
       "<Axes: xlabel='avg_depth_of_target', ylabel='yards'>"
      ]
     },
     "execution_count": 13,
     "metadata": {},
     "output_type": "execute_result"
    },
    {
     "data": {
      "image/png": "[encoded data removed]",
      "text/plain": [
       "<Figure size 640x480 with 1 Axes>"
      ]
     },
     "metadata": {},
     "output_type": "display_data"
    }
   ],
   "source": [
    "sns.scatterplot(data = df_wr, x = df_wr[\"avg_depth_of_target\"], y = df_wr[\"yards\"]) "
   ]
  },
  {
   "cell_type": "code",
   "execution_count": 14,
   "id": "1de0225a-7303-4995-8d3d-60b2864529bd",
   "metadata": {},
   "outputs": [
    {
     "name": "stderr",
     "output_type": "stream",
     "text": [
      "C:\\Users\\nj06gres\\AppData\\Local\\Temp\\ipykernel_15120\\159593170.py:1: FutureWarning: The default value of numeric_only in DataFrame.corr is deprecated. In a future version, it will default to False. Select only valid columns or specify the value of numeric_only to silence this warning.\n",
      "  corr_matrix = df_wr.corr()\n"
     ]
    },
    {
     "data": {
      "text/plain": [
       "yards                              1.000000\n",
       "receptions                         0.952243\n",
       "targets                            0.946463\n",
       "yards_after_catch                  0.882393\n",
       "yprr                               0.880586\n",
       "touchdowns                         0.811361\n",
       "contested_targets                  0.757748\n",
       "routes                             0.756633\n",
       "pass_plays                         0.751946\n",
       "avoided_tackles                    0.716227\n",
       "contested_receptions               0.713504\n",
       "drops                              0.604206\n",
       "wide_snaps                         0.592676\n",
       "targeted_qb_rating                 0.424779\n",
       "fumbles                            0.414440\n",
       "caught_percent                     0.391342\n",
       "player_game_count                  0.328519\n",
       "yards_after_catch_per_reception    0.293298\n",
       "slot_snaps                         0.288617\n",
       "yards_per_reception                0.268529\n",
       "wide_rate                          0.142095\n",
       "contested_catch_rate               0.098563\n",
       "route_rate                         0.027422\n",
       "player_id                         -0.065774\n",
       "avg_depth_of_target               -0.067042\n",
       "slot_rate                         -0.147687\n",
       "drop_rate                         -0.181872\n",
       "Name: yards, dtype: float64"
      ]
     },
     "execution_count": 14,
     "metadata": {},
     "output_type": "execute_result"
    }
   ],
   "source": [
    "corr_matrix = df_wr.corr()\n",
    "\n",
    "corr_matrix[\"yards\"].sort_values(ascending=False)"
   ]
  },
  {
   "cell_type": "code",
   "execution_count": 15,
   "id": "81c7e668-35f4-4afb-8f07-444d7f3931e4",
   "metadata": {},
   "outputs": [
    {
     "data": {
      "text/plain": [
       "<Axes: xlabel='touchdowns', ylabel='yards'>"
      ]
     },
     "execution_count": 15,
     "metadata": {},
     "output_type": "execute_result"
    },
    {
     "data": {
      "image/png": "[encoded data removed]",
      "text/plain": [
       "<Figure size 640x480 with 1 Axes>"
      ]
     },
     "metadata": {},
     "output_type": "display_data"
    }
   ],
   "source": [
    "sns.scatterplot(data = df_wr, x = df_wr[\"touchdowns\"], y = df_wr[\"yards\"]) "
   ]
  },
  {
   "cell_type": "code",
   "execution_count": 16,
   "id": "bd6a64a2-24b4-4425-8261-e38efeb0488e",
   "metadata": {},
   "outputs": [
    {
     "data": {
      "text/plain": [
       "<Axes: xlabel='receptions', ylabel='yards'>"
      ]
     },
     "execution_count": 16,
     "metadata": {},
     "output_type": "execute_result"
    },
    {
     "data": {
      "image/png": "[encoded data removed]",
      "text/plain": [
       "<Figure size 640x480 with 1 Axes>"
      ]
     },
     "metadata": {},
     "output_type": "display_data"
    }
   ],
   "source": [
    "sns.scatterplot(data = df_wr, x = df_wr[\"receptions\"], y = df_wr[\"yards\"]) "
   ]
  },
  {
   "cell_type": "code",
   "execution_count": 133,
   "id": "d3ed207b-d235-4cd1-b567-74ffa19efb63",
   "metadata": {},
   "outputs": [
    {
     "data": {
      "text/plain": [
       "array([ 817.72267522,  423.45709677, 1194.27748835,  753.62293547,\n",
       "       1097.54603862,  444.29066402,  590.25896504, 1265.15750734,\n",
       "        808.26852412,  445.59570988, 1270.31768764,  532.19059923,\n",
       "       1236.27789949, 1093.29083668,  524.63524676,  214.42230656,\n",
       "        126.29430805, 1774.6217341 ,  332.53077478,  294.82522084,\n",
       "        541.95407235,  673.8346209 ,  930.4673128 ,  667.4111211 ,\n",
       "        688.67049255, 1082.33462507, 1013.29476733,   41.60817895,\n",
       "        667.23995341,  231.86802854,  908.24145398,  418.95945148,\n",
       "       1153.9403246 ,  281.73936641,  743.89727743,   11.71559306])"
      ]
     },
     "execution_count": 133,
     "metadata": {},
     "output_type": "execute_result"
    }
   ],
   "source": [
    "# Training linear model\n",
    "from sklearn.linear_model import LinearRegression\n",
    "from sklearn.model_selection import train_test_split\n",
    "\n",
    "x = df_wr[[\"player_game_count\",  \"avoided_tackles\", \"caught_percent\",               \n",
    "\"contested_receptions\", \"contested_targets\",  \"drops\", \"fumbles\", \"pass_plays\", \"receptions\",  \"routes\", \n",
    "\"slot_snaps\", \"targeted_qb_rating\", \"targets\", \"touchdowns\",  \"wide_snaps\", \"yards_after_catch_per_reception\",\n",
    "\"yards_per_reception\", \"yprr\"]]\n",
    "y = df_wr[\"yards\"]\n",
    "\n",
    "X_train, X_test, y_train, y_test = train_test_split(x,y, test_size = 0.3, random_state = 42)\n",
    "\n",
    "lin_reg = LinearRegression()\n",
    "lin_reg.fit(x, y)\n",
    "lin_reg.intercept_, lin_reg.coef_\n",
    "\n",
    "y_predict = lin_reg.predict(X_test)\n",
    "y_predict"
   ]
  },
  {
   "cell_type": "code",
   "execution_count": 134,
   "id": "4d6e9abd-da5e-4263-bafb-275654bb0360",
   "metadata": {},
   "outputs": [
    {
     "data": {
      "text/plain": [
       "46.42314401594072"
      ]
     },
     "execution_count": 134,
     "metadata": {},
     "output_type": "execute_result"
    }
   ],
   "source": [
    "from sklearn.metrics import mean_squared_error\n",
    "\n",
    "val_error = mean_squared_error(y_test, y_predict, squared = False)\n",
    "val_error"
   ]
  },
  {
   "cell_type": "code",
   "execution_count": 151,
   "id": "1a996c02",
   "metadata": {},
   "outputs": [
    {
     "data": {
      "image/png": "[encoded data removed]",
      "text/plain": [
       "<Figure size 600x400 with 1 Axes>"
      ]
     },
     "metadata": {},
     "output_type": "display_data"
    }
   ],
   "source": [
    "from sklearn.pipeline import make_pipeline\n",
    "from sklearn.preprocessing import PolynomialFeatures\n",
    "from sklearn.model_selection import learning_curve\n",
    "\n",
    "train_sizes, train_scores, valid_scores = learning_curve(\n",
    "    LinearRegression(), x, y, train_sizes=np.linspace(0.01, 1.0, 40), cv=5,\n",
    "    scoring=\"neg_root_mean_squared_error\")\n",
    "train_errors = -train_scores.mean(axis=1)\n",
    "valid_errors = -valid_scores.mean(axis=1)\n",
    "\n",
    "plt.figure(figsize=(6, 4))  # extra code – not needed, just formatting\n",
    "plt.plot(train_sizes, train_errors, \"r-+\", linewidth=2, label=\"train\")\n",
    "plt.plot(train_sizes, valid_errors, \"b-\", linewidth=3, label=\"valid\")\n",
    "\n",
    "# extra code – beautifies and saves Figure 4–15\n",
    "plt.xlabel(\"Training set size\")\n",
    "plt.ylabel(\"RMSE\")\n",
    "plt.grid()\n",
    "plt.legend(loc=\"upper right\")\n",
    "plt.axis([0, 100, 0, 250])\n",
    "\n",
    "plt.title(\"Linear\")\n",
    "plt.show()\n"
   ]
  },
  {
   "cell_type": "code",
   "execution_count": 57,
   "id": "d3206af2-0c89-4106-a25a-4b2f30c95e59",
   "metadata": {},
   "outputs": [
    {
     "data": {
      "text/plain": [
       "[<matplotlib.lines.Line2D at 0x1d984b7b3d0>]"
      ]
     },
     "execution_count": 57,
     "metadata": {},
     "output_type": "execute_result"
    },
    {
     "data": {
      "image/png": "[encoded data removed]",
      "text/plain": [
       "<Figure size 640x480 with 1 Axes>"
      ]
     },
     "metadata": {},
     "output_type": "display_data"
    }
   ],
   "source": [
    "\n",
    "#plt.plot(\n",
    "xstop = 150\n",
    "\n",
    "Z = np.arange(0,xstop,xstop/len(y_predict))\n",
    "\n",
    "sns.scatterplot(data = df_wr, x = df_wr[\"receptions\"], y = df_wr[\"yards\"]) \n",
    "plt.plot(Z,y_predict, \"r-\")"
   ]
  },
  {
   "cell_type": "code",
   "execution_count": 20,
   "id": "b1fba5cd-9385-48ea-afb1-f9da90c04fa7",
   "metadata": {},
   "outputs": [
    {
     "data": {
      "text/plain": [
       "36"
      ]
     },
     "execution_count": 20,
     "metadata": {},
     "output_type": "execute_result"
    }
   ],
   "source": [
    "len(x)"
   ]
  },
  {
   "cell_type": "code",
   "execution_count": 21,
   "id": "67af3382-062b-4493-9d30-2dde31a20dff",
   "metadata": {},
   "outputs": [
    {
     "data": {
      "text/plain": [
       "84"
      ]
     },
     "execution_count": 21,
     "metadata": {},
     "output_type": "execute_result"
    }
   ],
   "source": [
    "len(X_train)"
   ]
  },
  {
   "cell_type": "code",
   "execution_count": 22,
   "id": "e669720d-ea99-489f-b45f-2698a78cc0a9",
   "metadata": {},
   "outputs": [
    {
     "data": {
      "text/plain": [
       "36"
      ]
     },
     "execution_count": 22,
     "metadata": {},
     "output_type": "execute_result"
    }
   ],
   "source": [
    "len(y_predict)"
   ]
  },
  {
   "cell_type": "code",
   "execution_count": 90,
   "id": "96a6f021-ce62-446d-b4b7-0e32ceae6278",
   "metadata": {},
   "outputs": [],
   "source": [
    "from sklearn.tree import DecisionTreeRegressor"
   ]
  },
  {
   "cell_type": "code",
   "execution_count": null,
   "id": "7bac586b",
   "metadata": {},
   "outputs": [],
   "source": []
  },
  {
   "cell_type": "code",
   "execution_count": 136,
   "id": "cd0e55db",
   "metadata": {},
   "outputs": [],
   "source": [
    "X_train, X_test, y_train, y_test = train_test_split(x, y, test_size=0.2, random_state=42)"
   ]
  },
  {
   "cell_type": "code",
   "execution_count": 137,
   "id": "dce13ef9",
   "metadata": {},
   "outputs": [],
   "source": [
    "decision_tree_regressor = DecisionTreeRegressor(random_state=42)\n",
    "decision_tree_regressor.fit(X_train, y_train)\n",
    "\n",
    "predictions = decision_tree_regressor.predict(X_test)"
   ]
  },
  {
   "cell_type": "code",
   "execution_count": 138,
   "id": "00012b1f",
   "metadata": {},
   "outputs": [
    {
     "data": {
      "text/plain": [
       "15376.625"
      ]
     },
     "execution_count": 138,
     "metadata": {},
     "output_type": "execute_result"
    }
   ],
   "source": [
    "tree_val_error = mean_squared_error(y_test, predictions)\n",
    "tree_val_error"
   ]
  },
  {
   "cell_type": "code",
   "execution_count": 152,
   "id": "d835e349",
   "metadata": {},
   "outputs": [
    {
     "data": {
      "image/png": "[encoded data removed]",
      "text/plain": [
       "<Figure size 600x400 with 1 Axes>"
      ]
     },
     "metadata": {},
     "output_type": "display_data"
    }
   ],
   "source": [
    "from sklearn.pipeline import make_pipeline\n",
    "from sklearn.preprocessing import PolynomialFeatures\n",
    "from sklearn.model_selection import learning_curve\n",
    "\n",
    "train_sizes, train_scores, valid_scores = learning_curve(\n",
    "    DecisionTreeRegressor(), x, y, train_sizes=np.linspace(0.01, 1.0, 40), cv=5,\n",
    "    scoring=\"neg_root_mean_squared_error\")\n",
    "train_errors = -train_scores.mean(axis=1)\n",
    "valid_errors = -valid_scores.mean(axis=1)\n",
    "\n",
    "plt.figure(figsize=(6, 4))  # extra code – not needed, just formatting\n",
    "plt.plot(train_sizes, train_errors, \"r-+\", linewidth=2, label=\"train\")\n",
    "plt.plot(train_sizes, valid_errors, \"b-\", linewidth=3, label=\"valid\")\n",
    "\n",
    "# extra code – beautifies and saves Figure 4–15\n",
    "plt.xlabel(\"Training set size\")\n",
    "plt.ylabel(\"RMSE\")\n",
    "plt.grid()\n",
    "plt.legend(loc=\"upper right\")\n",
    "#plt.axis([0, 100, 0, 250])\n",
    "\n",
    "plt.title(\"Decision Tree\")\n",
    "plt.show()\n"
   ]
  },
  {
   "cell_type": "code",
   "execution_count": 94,
   "id": "f7c42043",
   "metadata": {},
   "outputs": [],
   "source": [
    "from sklearn.ensemble import RandomForestRegressor"
   ]
  },
  {
   "cell_type": "code",
   "execution_count": null,
   "id": "c217e657",
   "metadata": {},
   "outputs": [],
   "source": []
  },
  {
   "cell_type": "code",
   "execution_count": 141,
   "id": "9f164c4f",
   "metadata": {},
   "outputs": [],
   "source": [
    "# Splitting the data into training and testing sets\n",
    "X_train, X_test, y_train, y_test = train_test_split(x, y, test_size=0.2, random_state=42)"
   ]
  },
  {
   "cell_type": "code",
   "execution_count": 142,
   "id": "218b0872",
   "metadata": {},
   "outputs": [],
   "source": [
    "# Creating a random forest regressor model\n",
    "random_forest_model = RandomForestRegressor(n_estimators=100, random_state=42)"
   ]
  },
  {
   "cell_type": "code",
   "execution_count": 143,
   "id": "d32a0a49",
   "metadata": {},
   "outputs": [],
   "source": [
    "# Training the model\n",
    "random_forest_model.fit(X_train, y_train)\n",
    "\n",
    "# Making predictions\n",
    "predictions = random_forest_model.predict(X_test)"
   ]
  },
  {
   "cell_type": "code",
   "execution_count": 144,
   "id": "3434e98c",
   "metadata": {},
   "outputs": [
    {
     "data": {
      "text/plain": [
       "5104.457066666665"
      ]
     },
     "execution_count": 144,
     "metadata": {},
     "output_type": "execute_result"
    }
   ],
   "source": [
    "# Evaluating the model\n",
    "forest_val_error = mean_squared_error(y_test, predictions)\n",
    "forest_val_error"
   ]
  },
  {
   "cell_type": "code",
   "execution_count": 153,
   "id": "a181aa39",
   "metadata": {},
   "outputs": [
    {
     "data": {
      "image/png": "[encoded data removed]",
      "text/plain": [
       "<Figure size 600x400 with 1 Axes>"
      ]
     },
     "metadata": {},
     "output_type": "display_data"
    }
   ],
   "source": [
    "from sklearn.pipeline import make_pipeline\n",
    "from sklearn.preprocessing import PolynomialFeatures\n",
    "from sklearn.model_selection import learning_curve\n",
    "\n",
    "train_sizes, train_scores, valid_scores = learning_curve(\n",
    "    RandomForestRegressor(), x, y, train_sizes=np.linspace(0.01, 1.0, 40), cv=5,\n",
    "    scoring=\"neg_root_mean_squared_error\")\n",
    "train_errors = -train_scores.mean(axis=1)\n",
    "valid_errors = -valid_scores.mean(axis=1)\n",
    "\n",
    "plt.figure(figsize=(6, 4))  # extra code – not needed, just formatting\n",
    "plt.plot(train_sizes, train_errors, \"r-+\", linewidth=2, label=\"train\")\n",
    "plt.plot(train_sizes, valid_errors, \"b-\", linewidth=3, label=\"valid\")\n",
    "\n",
    "# extra code – beautifies and saves Figure 4–15\n",
    "plt.xlabel(\"Training set size\")\n",
    "plt.ylabel(\"RMSE\")\n",
    "plt.grid()\n",
    "plt.legend(loc=\"upper right\")\n",
    "#plt.axis([0, 100, 0, 250])\n",
    "\n",
    "plt.title(\"Random Forest\")\n",
    "plt.show()"
   ]
  },
  {
   "cell_type": "code",
   "execution_count": 99,
   "id": "27d90aaf",
   "metadata": {},
   "outputs": [],
   "source": [
    "from sklearn.svm import SVR"
   ]
  },
  {
   "cell_type": "code",
   "execution_count": null,
   "id": "18a3a0e5",
   "metadata": {},
   "outputs": [],
   "source": []
  },
  {
   "cell_type": "code",
   "execution_count": 147,
   "id": "ad522bc6",
   "metadata": {},
   "outputs": [],
   "source": [
    "X_train, X_test, y_train, y_test = train_test_split(x, y, test_size=0.2, random_state=42)"
   ]
  },
  {
   "cell_type": "code",
   "execution_count": 148,
   "id": "df0918e0",
   "metadata": {},
   "outputs": [],
   "source": [
    "svm_regressor = SVR(kernel='rbf')\n",
    "svm_regressor.fit(X_train, y_train)\n",
    "\n",
    "predictions = svm_regressor.predict(X_test)"
   ]
  },
  {
   "cell_type": "code",
   "execution_count": 149,
   "id": "50875ad0",
   "metadata": {},
   "outputs": [
    {
     "data": {
      "text/plain": [
       "198407.06977806462"
      ]
     },
     "execution_count": 149,
     "metadata": {},
     "output_type": "execute_result"
    }
   ],
   "source": [
    "svm_val_error = mean_squared_error(y_test, predictions)\n",
    "svm_val_error"
   ]
  },
  {
   "cell_type": "code",
   "execution_count": 154,
   "id": "747950f8",
   "metadata": {},
   "outputs": [
    {
     "data": {
      "image/png": "[encoded data removed]",
      "text/plain": [
       "<Figure size 600x400 with 1 Axes>"
      ]
     },
     "metadata": {},
     "output_type": "display_data"
    }
   ],
   "source": [
    "from sklearn.pipeline import make_pipeline\n",
    "from sklearn.preprocessing import PolynomialFeatures\n",
    "from sklearn.model_selection import learning_curve\n",
    "\n",
    "train_sizes, train_scores, valid_scores = learning_curve(\n",
    "    SVR(), x, y, train_sizes=np.linspace(0.01, 1.0, 40), cv=5,\n",
    "    scoring=\"neg_root_mean_squared_error\")\n",
    "train_errors = -train_scores.mean(axis=1)\n",
    "valid_errors = -valid_scores.mean(axis=1)\n",
    "\n",
    "plt.figure(figsize=(6, 4))  # extra code – not needed, just formatting\n",
    "plt.plot(train_sizes, train_errors, \"r-+\", linewidth=2, label=\"train\")\n",
    "plt.plot(train_sizes, valid_errors, \"b-\", linewidth=3, label=\"valid\")\n",
    "\n",
    "# extra code – beautifies and saves Figure 4–15\n",
    "plt.xlabel(\"Training set size\")\n",
    "plt.ylabel(\"RMSE\")\n",
    "plt.grid()\n",
    "plt.legend(loc=\"upper right\")\n",
    "#plt.axis([0, 100, 0, 250])\n",
    "\n",
    "plt.title(\"SVM\")\n",
    "plt.show()"
   ]
  },
  {
   "cell_type": "code",
   "execution_count": 103,
   "id": "a4a1f7f1",
   "metadata": {},
   "outputs": [
    {
     "name": "stdout",
     "output_type": "stream",
     "text": [
      "LinReg MSE:  46.42314401594072 \n",
      "Tree MSE:  15376.625 \n",
      "RandForest MSE:  5104.457066666665 \n",
      "SVM MSE:  198407.06977806462\n"
     ]
    }
   ],
   "source": [
    "print(\"LinReg MSE: \", val_error, \"\\nTree MSE: \", tree_val_error, \"\\nRandForest MSE: \", forest_val_error, \"\\nSVM MSE: \", svm_val_error)"
   ]
  },
  {
   "cell_type": "code",
   "execution_count": null,
   "id": "da248312",
   "metadata": {},
   "outputs": [],
   "source": []
  },
  {
   "cell_type": "code",
   "execution_count": null,
   "id": "9ba695bf",
   "metadata": {},
   "outputs": [],
   "source": []
  }
 ],
 "metadata": {
  "kernelspec": {
   "display_name": "Python 3 (ipykernel)",
   "language": "python",
   "name": "python3"
  },
  "language_info": {
   "codemirror_mode": {
    "name": "ipython",
    "version": 3
   },
   "file_extension": ".py",
   "mimetype": "text/x-python",
   "name": "python",
   "nbconvert_exporter": "python",
   "pygments_lexer": "ipython3",
   "version": "3.11.4"
  }
 },
 "nbformat": 4,
 "nbformat_minor": 5
}
